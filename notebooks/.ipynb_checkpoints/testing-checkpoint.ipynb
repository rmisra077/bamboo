{
 "cells": [
  {
   "cell_type": "code",
   "execution_count": 1,
   "metadata": {},
   "outputs": [],
   "source": [
    "import livetrading\n",
    "import utility\n",
    "import algorithms.mfi as mfi\n",
    "import algorithms.macd as macd\n",
    "from account import Account\n",
    "import json\n",
    "import database"
   ]
  },
  {
   "cell_type": "code",
   "execution_count": 2,
   "metadata": {},
   "outputs": [],
   "source": [
    "acc = Account(\"richa\", \"pwd\")"
   ]
  },
  {
   "cell_type": "code",
   "execution_count": 3,
   "metadata": {},
   "outputs": [
    {
     "data": {
      "text/plain": [
       "[]"
      ]
     },
     "execution_count": 3,
     "metadata": {},
     "output_type": "execute_result"
    }
   ],
   "source": [
    "acc.get_portfolios()"
   ]
  },
  {
   "cell_type": "code",
   "execution_count": 4,
   "metadata": {},
   "outputs": [],
   "source": [
    "acc.add_portfolio(macd.MFI())\n",
    "testport = acc.get_portfolios()[0]"
   ]
  },
  {
   "cell_type": "code",
   "execution_count": 5,
   "metadata": {},
   "outputs": [
    {
     "data": {
      "text/plain": [
       "[]"
      ]
     },
     "execution_count": 5,
     "metadata": {},
     "output_type": "execute_result"
    }
   ],
   "source": [
    "testport.get_symbols()"
   ]
  },
  {
   "cell_type": "code",
   "execution_count": 6,
   "metadata": {},
   "outputs": [],
   "source": [
    "dji = utility.djia()"
   ]
  },
  {
   "cell_type": "code",
   "execution_count": 7,
   "metadata": {},
   "outputs": [],
   "source": [
    "testport.add_symbols(['KATE', 'TSLA', 'AAPL', 'SNAP'])"
   ]
  },
  {
   "cell_type": "code",
   "execution_count": 8,
   "metadata": {},
   "outputs": [],
   "source": [
    "testport.change_name(\"portfolio1\")"
   ]
  },
  {
   "cell_type": "code",
   "execution_count": 9,
   "metadata": {},
   "outputs": [
    {
     "data": {
      "text/plain": [
       "{'username': 'rmisra077',\n",
       " 'password': 'test123',\n",
       " 'portfolios': [{'name': 'portfolio1',\n",
       "   'value': 0,\n",
       "   'earnings': 0,\n",
       "   'symbols': ['WMT', 'VZ', 'MMM', 'TRV', 'MRK'],\n",
       "   'strategy': {'name': 'macd',\n",
       "    'fastperiod': '12',\n",
       "    'slowperiod': '26',\n",
       "    'signalperiod': '9',\n",
       "    'bought': False}}],\n",
       " 'earnings': 0}"
      ]
     },
     "execution_count": 9,
     "metadata": {},
     "output_type": "execute_result"
    }
   ],
   "source": [
    "utility.serialize_account(acc)"
   ]
  },
  {
   "cell_type": "code",
   "execution_count": 10,
   "metadata": {},
   "outputs": [
    {
     "name": "stdout",
     "output_type": "stream",
     "text": [
      "Username is taken\n"
     ]
    },
    {
     "data": {
      "text/plain": [
       "-1"
      ]
     },
     "execution_count": 10,
     "metadata": {},
     "output_type": "execute_result"
    }
   ],
   "source": [
    "database.add_account(acc)"
   ]
  },
  {
   "cell_type": "code",
   "execution_count": 13,
   "metadata": {},
   "outputs": [
    {
     "data": {
      "text/plain": [
       "{'_id': ObjectId('6000eb8279dc71d848984f29'),\n",
       " 'username': 'rmisra077',\n",
       " 'password': 'test123',\n",
       " 'portfolios': [{'name': 'portfolio1',\n",
       "   'value': 0,\n",
       "   'earnings': 0,\n",
       "   'symbols': ['MRK', 'VZ', 'MMM', 'TRV', 'WMT'],\n",
       "   'strategy': {'name': 'macd',\n",
       "    'fastperiod': '12',\n",
       "    'slowperiod': '26',\n",
       "    'signalperiod': '9',\n",
       "    'bought': False}}],\n",
       " 'earnings': 0}"
      ]
     },
     "execution_count": 13,
     "metadata": {},
     "output_type": "execute_result"
    }
   ],
   "source": [
    "database.get_account(\"rmisra077\", \"test123\")"
   ]
  },
  {
   "cell_type": "code",
   "execution_count": null,
   "metadata": {},
   "outputs": [],
   "source": []
  }
 ],
 "metadata": {
  "kernelspec": {
   "display_name": "Python 3",
   "language": "python",
   "name": "python3"
  },
  "language_info": {
   "codemirror_mode": {
    "name": "ipython",
    "version": 3
   },
   "file_extension": ".py",
   "mimetype": "text/x-python",
   "name": "python",
   "nbconvert_exporter": "python",
   "pygments_lexer": "ipython3",
   "version": "3.8.5"
  }
 },
 "nbformat": 4,
 "nbformat_minor": 4
}
