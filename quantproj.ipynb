{
 "cells": [
  {
   "cell_type": "markdown",
   "metadata": {
    "id": "0MPLzLM_OO7n"
   },
   "source": [
    "# Quant Trading Project\n",
    "\n",
    "Rishabh Misra\n",
    "\n",
    "---"
   ]
  },
  {
   "cell_type": "code",
   "execution_count": 1,
   "metadata": {},
   "outputs": [],
   "source": [
    "import alpaca_trade_api as tradeapi\n"
   ]
  },
  {
   "cell_type": "code",
   "execution_count": 2,
   "metadata": {},
   "outputs": [],
   "source": [
    "# Playing around with ALPACA\n",
    "\n",
    "api = tradeapi.REST('PK42V8WYPH6UO0W2VEYU', 'vZHd5tb55JBjTiuptbgV6T6SNPxFD0UTXUSArXU2', base_url='https://paper-api.alpaca.markets')"
   ]
  },
  {
   "cell_type": "code",
   "execution_count": 3,
   "metadata": {},
   "outputs": [
    {
     "data": {
      "text/plain": [
       "'TWTR'"
      ]
     },
     "execution_count": 3,
     "metadata": {},
     "output_type": "execute_result"
    }
   ],
   "source": [
    "twtr = api.list_positions()[0]\n",
    "twtr.symbol"
   ]
  },
  {
   "cell_type": "code",
   "execution_count": 4,
   "metadata": {
    "scrolled": false
   },
   "outputs": [],
   "source": [
    "import livetrading"
   ]
  },
  {
   "cell_type": "code",
   "execution_count": 5,
   "metadata": {},
   "outputs": [
    {
     "data": {
      "text/plain": [
       "Account({   'account_blocked': False,\n",
       "    'account_number': 'PA2UT2J8B4P6',\n",
       "    'buying_power': '390586.6',\n",
       "    'cash': '91094.8',\n",
       "    'created_at': '2021-01-05T05:46:35.504262Z',\n",
       "    'currency': 'USD',\n",
       "    'daytrade_count': 2,\n",
       "    'daytrading_buying_power': '390586.6',\n",
       "    'equity': '100065.7',\n",
       "    'id': 'e5d9f20b-cfcd-4b7d-8580-23119ba6e039',\n",
       "    'initial_margin': '4722',\n",
       "    'last_equity': '100000',\n",
       "    'last_maintenance_margin': '0',\n",
       "    'long_market_value': '9207.45',\n",
       "    'maintenance_margin': '2833.2',\n",
       "    'multiplier': '4',\n",
       "    'pattern_day_trader': False,\n",
       "    'portfolio_value': '100065.7',\n",
       "    'regt_buying_power': '190687.4',\n",
       "    'short_market_value': '-236.55',\n",
       "    'shorting_enabled': True,\n",
       "    'sma': '0',\n",
       "    'status': 'ACTIVE',\n",
       "    'trade_suspended_by_user': False,\n",
       "    'trading_blocked': False,\n",
       "    'transfers_blocked': False})"
      ]
     },
     "execution_count": 5,
     "metadata": {},
     "output_type": "execute_result"
    }
   ],
   "source": [
    "livetrading.get_account()"
   ]
  },
  {
   "cell_type": "code",
   "execution_count": 121,
   "metadata": {},
   "outputs": [
    {
     "data": {
      "text/plain": [
       "Order({   'asset_class': 'us_equity',\n",
       "    'asset_id': '2e91ded3-a6d8-423f-bbf0-e0a7f29b88ce',\n",
       "    'canceled_at': None,\n",
       "    'client_order_id': '33fa4738-4ac9-44b3-bb76-58cdc4308f3b',\n",
       "    'created_at': '2021-01-12T17:22:21.816246Z',\n",
       "    'expired_at': None,\n",
       "    'extended_hours': False,\n",
       "    'failed_at': None,\n",
       "    'filled_at': None,\n",
       "    'filled_avg_price': None,\n",
       "    'filled_qty': '0',\n",
       "    'hwm': None,\n",
       "    'id': 'e3f2db65-ff75-4291-b9c9-d641b9ce2c98',\n",
       "    'legs': None,\n",
       "    'limit_price': None,\n",
       "    'order_class': '',\n",
       "    'order_type': 'market',\n",
       "    'qty': '5',\n",
       "    'replaced_at': None,\n",
       "    'replaced_by': None,\n",
       "    'replaces': None,\n",
       "    'side': 'sell',\n",
       "    'status': 'accepted',\n",
       "    'stop_price': None,\n",
       "    'submitted_at': '2021-01-12T17:22:21.804961Z',\n",
       "    'symbol': 'TWTR',\n",
       "    'time_in_force': 'gtc',\n",
       "    'trail_percent': None,\n",
       "    'trail_price': None,\n",
       "    'type': 'market',\n",
       "    'updated_at': '2021-01-12T17:22:21.816246Z'})"
      ]
     },
     "execution_count": 121,
     "metadata": {},
     "output_type": "execute_result"
    }
   ],
   "source": [
    "# api.submit_order(\n",
    "#     symbol='TWTR',\n",
    "#     side='sell',\n",
    "#     qty='5',\n",
    "#     type='market',\n",
    "#     time_in_force='gtc'\n",
    "# )"
   ]
  },
  {
   "cell_type": "code",
   "execution_count": 22,
   "metadata": {},
   "outputs": [],
   "source": [
    "import algorithms.mfi"
   ]
  },
  {
   "cell_type": "code",
   "execution_count": 23,
   "metadata": {},
   "outputs": [
    {
     "name": "stdout",
     "output_type": "stream",
     "text": [
      "hi\n"
     ]
    }
   ],
   "source": [
    "algorithms.mfi.hi()"
   ]
  },
  {
   "cell_type": "markdown",
   "metadata": {
    "id": "_7sKd9f5bOa9"
   },
   "source": [
    "### Setting up Alpha Vantage\n",
    "\n",
    "Library that will help obtain:\n",
    "* Stock Time Series Data\n",
    "* Fundamental Data (Accounting, etc.)\n",
    "* Forex Data\n",
    "* Cryptocurrencies Data\n",
    "* **Numerous** technical indicators"
   ]
  },
  {
   "cell_type": "code",
   "execution_count": 1,
   "metadata": {
    "id": "pwtj0GF6ey9w"
   },
   "outputs": [],
   "source": [
    "import utility"
   ]
  },
  {
   "cell_type": "code",
   "execution_count": 2,
   "metadata": {
    "id": "bMb-xE2ifsjI"
   },
   "outputs": [],
   "source": [
    "intradayparams = {\n",
    "    'symbol': 'AAPL',\n",
    "    'interval' : '5min'\n",
    "}\n",
    "today_appl = utility.av_call('TIME_SERIES_INTRADAY', intradayparams)"
   ]
  },
  {
   "cell_type": "markdown",
   "metadata": {
    "id": "5lSLC3MWPV9B"
   },
   "source": [
    "### Simple Moving Averages\n",
    "\n",
    "Calculating simple moving averages using month data from Alpha Vantage"
   ]
  },
  {
   "cell_type": "code",
   "execution_count": null,
   "metadata": {
    "id": "2FrQJsjYPV9C"
   },
   "outputs": [],
   "source": [
    "import matplotlib.pyplot as plt"
   ]
  },
  {
   "cell_type": "code",
   "execution_count": null,
   "metadata": {
    "id": "kt5pVmrVPV9C"
   },
   "outputs": [],
   "source": [
    "# Calling AV API to get\n",
    "monthparams = {\n",
    "    'symbol': 'AAPL',\n",
    "}\n",
    "monthappl = av_call(\"TIME_SERIES_MONTHLY_ADJUSTED\", monthparams)"
   ]
  },
  {
   "cell_type": "code",
   "execution_count": null,
   "metadata": {
    "id": "aYTTt65hPV9C"
   },
   "outputs": [],
   "source": [
    "appltime = monthappl['Monthly Adjusted Time Series']"
   ]
  },
  {
   "cell_type": "code",
   "execution_count": null,
   "metadata": {
    "colab": {
     "base_uri": "https://localhost:8080/",
     "height": 204
    },
    "id": "J7sKLMDDPV9C",
    "outputId": "c635e507-0c02-49a4-b923-f4158acfe912"
   },
   "outputs": [
    {
     "data": {
      "text/html": [
       "<div>\n",
       "<style scoped>\n",
       "    .dataframe tbody tr th:only-of-type {\n",
       "        vertical-align: middle;\n",
       "    }\n",
       "\n",
       "    .dataframe tbody tr th {\n",
       "        vertical-align: top;\n",
       "    }\n",
       "\n",
       "    .dataframe thead th {\n",
       "        text-align: right;\n",
       "    }\n",
       "</style>\n",
       "<table border=\"1\" class=\"dataframe\">\n",
       "  <thead>\n",
       "    <tr style=\"text-align: right;\">\n",
       "      <th></th>\n",
       "      <th>1. open</th>\n",
       "      <th>2. high</th>\n",
       "      <th>3. low</th>\n",
       "      <th>4. close</th>\n",
       "      <th>5. adjusted close</th>\n",
       "      <th>6. volume</th>\n",
       "      <th>7. dividend amount</th>\n",
       "    </tr>\n",
       "  </thead>\n",
       "  <tbody>\n",
       "    <tr>\n",
       "      <th>2000-04-28</th>\n",
       "      <td>135.5000</td>\n",
       "      <td>139.5000</td>\n",
       "      <td>104.8700</td>\n",
       "      <td>124.0600</td>\n",
       "      <td>0.9554</td>\n",
       "      <td>77342900</td>\n",
       "      <td>0.0000</td>\n",
       "    </tr>\n",
       "    <tr>\n",
       "      <th>2000-03-31</th>\n",
       "      <td>118.5600</td>\n",
       "      <td>150.3800</td>\n",
       "      <td>114.0000</td>\n",
       "      <td>135.8100</td>\n",
       "      <td>1.0459</td>\n",
       "      <td>77663900</td>\n",
       "      <td>0.0000</td>\n",
       "    </tr>\n",
       "    <tr>\n",
       "      <th>2000-02-29</th>\n",
       "      <td>104.0000</td>\n",
       "      <td>119.9400</td>\n",
       "      <td>97.0000</td>\n",
       "      <td>114.6200</td>\n",
       "      <td>0.8827</td>\n",
       "      <td>65355200</td>\n",
       "      <td>0.0000</td>\n",
       "    </tr>\n",
       "    <tr>\n",
       "      <th>2000-01-31</th>\n",
       "      <td>104.8700</td>\n",
       "      <td>121.5000</td>\n",
       "      <td>86.5000</td>\n",
       "      <td>103.7500</td>\n",
       "      <td>0.7990</td>\n",
       "      <td>112099800</td>\n",
       "      <td>0.0000</td>\n",
       "    </tr>\n",
       "    <tr>\n",
       "      <th>1999-12-31</th>\n",
       "      <td>101.0000</td>\n",
       "      <td>118.0000</td>\n",
       "      <td>91.0600</td>\n",
       "      <td>102.8100</td>\n",
       "      <td>0.7918</td>\n",
       "      <td>84091200</td>\n",
       "      <td>0.0000</td>\n",
       "    </tr>\n",
       "  </tbody>\n",
       "</table>\n",
       "</div>"
      ],
      "text/plain": [
       "             1. open   2. high  ...  6. volume 7. dividend amount\n",
       "2000-04-28  135.5000  139.5000  ...   77342900             0.0000\n",
       "2000-03-31  118.5600  150.3800  ...   77663900             0.0000\n",
       "2000-02-29  104.0000  119.9400  ...   65355200             0.0000\n",
       "2000-01-31  104.8700  121.5000  ...  112099800             0.0000\n",
       "1999-12-31  101.0000  118.0000  ...   84091200             0.0000\n",
       "\n",
       "[5 rows x 7 columns]"
      ]
     },
     "execution_count": 24,
     "metadata": {
      "tags": []
     },
     "output_type": "execute_result"
    }
   ],
   "source": [
    "applmonth = pd.DataFrame(appltime).T\n",
    "applmonth.tail()"
   ]
  },
  {
   "cell_type": "code",
   "execution_count": null,
   "metadata": {
    "colab": {
     "base_uri": "https://localhost:8080/",
     "height": 204
    },
    "id": "PFXrvULaPV9C",
    "outputId": "a1fda944-9015-4d86-a55c-739d87bd95a4"
   },
   "outputs": [
    {
     "data": {
      "text/html": [
       "<div>\n",
       "<style scoped>\n",
       "    .dataframe tbody tr th:only-of-type {\n",
       "        vertical-align: middle;\n",
       "    }\n",
       "\n",
       "    .dataframe tbody tr th {\n",
       "        vertical-align: top;\n",
       "    }\n",
       "\n",
       "    .dataframe thead th {\n",
       "        text-align: right;\n",
       "    }\n",
       "</style>\n",
       "<table border=\"1\" class=\"dataframe\">\n",
       "  <thead>\n",
       "    <tr style=\"text-align: right;\">\n",
       "      <th></th>\n",
       "      <th>date</th>\n",
       "      <th>1. open</th>\n",
       "      <th>2. high</th>\n",
       "      <th>3. low</th>\n",
       "      <th>4. close</th>\n",
       "      <th>5. adjusted close</th>\n",
       "      <th>6. volume</th>\n",
       "      <th>7. dividend amount</th>\n",
       "    </tr>\n",
       "  </thead>\n",
       "  <tbody>\n",
       "    <tr>\n",
       "      <th>0</th>\n",
       "      <td>2021-01-08</td>\n",
       "      <td>133.5200</td>\n",
       "      <td>133.6116</td>\n",
       "      <td>126.3820</td>\n",
       "      <td>132.0500</td>\n",
       "      <td>132.0500</td>\n",
       "      <td>610791157</td>\n",
       "      <td>0.0000</td>\n",
       "    </tr>\n",
       "    <tr>\n",
       "      <th>1</th>\n",
       "      <td>2020-12-31</td>\n",
       "      <td>121.0100</td>\n",
       "      <td>138.7890</td>\n",
       "      <td>120.0100</td>\n",
       "      <td>132.6900</td>\n",
       "      <td>132.6900</td>\n",
       "      <td>2319687808</td>\n",
       "      <td>0.0000</td>\n",
       "    </tr>\n",
       "    <tr>\n",
       "      <th>2</th>\n",
       "      <td>2020-11-30</td>\n",
       "      <td>109.1100</td>\n",
       "      <td>121.9900</td>\n",
       "      <td>107.3200</td>\n",
       "      <td>119.0500</td>\n",
       "      <td>119.0500</td>\n",
       "      <td>2122724412</td>\n",
       "      <td>0.2050</td>\n",
       "    </tr>\n",
       "    <tr>\n",
       "      <th>3</th>\n",
       "      <td>2020-10-30</td>\n",
       "      <td>117.6400</td>\n",
       "      <td>125.3900</td>\n",
       "      <td>107.7200</td>\n",
       "      <td>108.8600</td>\n",
       "      <td>108.6723</td>\n",
       "      <td>2895317580</td>\n",
       "      <td>0.0000</td>\n",
       "    </tr>\n",
       "    <tr>\n",
       "      <th>4</th>\n",
       "      <td>2020-09-30</td>\n",
       "      <td>132.7600</td>\n",
       "      <td>137.9800</td>\n",
       "      <td>103.1000</td>\n",
       "      <td>115.8100</td>\n",
       "      <td>115.6103</td>\n",
       "      <td>3886793083</td>\n",
       "      <td>0.0000</td>\n",
       "    </tr>\n",
       "  </tbody>\n",
       "</table>\n",
       "</div>"
      ],
      "text/plain": [
       "         date   1. open  ...   6. volume 7. dividend amount\n",
       "0  2021-01-08  133.5200  ...   610791157             0.0000\n",
       "1  2020-12-31  121.0100  ...  2319687808             0.0000\n",
       "2  2020-11-30  109.1100  ...  2122724412             0.2050\n",
       "3  2020-10-30  117.6400  ...  2895317580             0.0000\n",
       "4  2020-09-30  132.7600  ...  3886793083             0.0000\n",
       "\n",
       "[5 rows x 8 columns]"
      ]
     },
     "execution_count": 25,
     "metadata": {
      "tags": []
     },
     "output_type": "execute_result"
    }
   ],
   "source": [
    "# Minor modifications to make table more usable\n",
    "applmonth = applmonth.reset_index()\n",
    "applmonth = applmonth.rename(columns = {'index':'date'})\n",
    "applmonth.head()"
   ]
  },
  {
   "cell_type": "code",
   "execution_count": null,
   "metadata": {
    "colab": {
     "base_uri": "https://localhost:8080/",
     "height": 204
    },
    "id": "-wjtHB_kPV9D",
    "outputId": "a0a22e03-ed51-4d06-9d3f-d5c2470af471"
   },
   "outputs": [
    {
     "data": {
      "text/html": [
       "<div>\n",
       "<style scoped>\n",
       "    .dataframe tbody tr th:only-of-type {\n",
       "        vertical-align: middle;\n",
       "    }\n",
       "\n",
       "    .dataframe tbody tr th {\n",
       "        vertical-align: top;\n",
       "    }\n",
       "\n",
       "    .dataframe thead th {\n",
       "        text-align: right;\n",
       "    }\n",
       "</style>\n",
       "<table border=\"1\" class=\"dataframe\">\n",
       "  <thead>\n",
       "    <tr style=\"text-align: right;\">\n",
       "      <th></th>\n",
       "      <th>date</th>\n",
       "      <th>1. open</th>\n",
       "      <th>2. high</th>\n",
       "      <th>3. low</th>\n",
       "      <th>4. close</th>\n",
       "      <th>5. adjusted close</th>\n",
       "      <th>6. volume</th>\n",
       "      <th>7. dividend amount</th>\n",
       "    </tr>\n",
       "  </thead>\n",
       "  <tbody>\n",
       "    <tr>\n",
       "      <th>253</th>\n",
       "      <td>1999-12-31</td>\n",
       "      <td>101.0000</td>\n",
       "      <td>118.0000</td>\n",
       "      <td>91.0600</td>\n",
       "      <td>102.8100</td>\n",
       "      <td>0.7918</td>\n",
       "      <td>84091200</td>\n",
       "      <td>0.0000</td>\n",
       "    </tr>\n",
       "    <tr>\n",
       "      <th>252</th>\n",
       "      <td>2000-01-31</td>\n",
       "      <td>104.8700</td>\n",
       "      <td>121.5000</td>\n",
       "      <td>86.5000</td>\n",
       "      <td>103.7500</td>\n",
       "      <td>0.7990</td>\n",
       "      <td>112099800</td>\n",
       "      <td>0.0000</td>\n",
       "    </tr>\n",
       "    <tr>\n",
       "      <th>251</th>\n",
       "      <td>2000-02-29</td>\n",
       "      <td>104.0000</td>\n",
       "      <td>119.9400</td>\n",
       "      <td>97.0000</td>\n",
       "      <td>114.6200</td>\n",
       "      <td>0.8827</td>\n",
       "      <td>65355200</td>\n",
       "      <td>0.0000</td>\n",
       "    </tr>\n",
       "    <tr>\n",
       "      <th>250</th>\n",
       "      <td>2000-03-31</td>\n",
       "      <td>118.5600</td>\n",
       "      <td>150.3800</td>\n",
       "      <td>114.0000</td>\n",
       "      <td>135.8100</td>\n",
       "      <td>1.0459</td>\n",
       "      <td>77663900</td>\n",
       "      <td>0.0000</td>\n",
       "    </tr>\n",
       "    <tr>\n",
       "      <th>249</th>\n",
       "      <td>2000-04-28</td>\n",
       "      <td>135.5000</td>\n",
       "      <td>139.5000</td>\n",
       "      <td>104.8700</td>\n",
       "      <td>124.0600</td>\n",
       "      <td>0.9554</td>\n",
       "      <td>77342900</td>\n",
       "      <td>0.0000</td>\n",
       "    </tr>\n",
       "  </tbody>\n",
       "</table>\n",
       "</div>"
      ],
      "text/plain": [
       "           date   1. open  ...  6. volume 7. dividend amount\n",
       "253  1999-12-31  101.0000  ...   84091200             0.0000\n",
       "252  2000-01-31  104.8700  ...  112099800             0.0000\n",
       "251  2000-02-29  104.0000  ...   65355200             0.0000\n",
       "250  2000-03-31  118.5600  ...   77663900             0.0000\n",
       "249  2000-04-28  135.5000  ...   77342900             0.0000\n",
       "\n",
       "[5 rows x 8 columns]"
      ]
     },
     "execution_count": 26,
     "metadata": {
      "tags": []
     },
     "output_type": "execute_result"
    }
   ],
   "source": [
    "# Reverse dataframe so it's in chronological order\n",
    "applmonth = applmonth.iloc[::-1]\n",
    "applmonth.head()"
   ]
  },
  {
   "cell_type": "code",
   "execution_count": null,
   "metadata": {
    "colab": {
     "base_uri": "https://localhost:8080/",
     "height": 204
    },
    "id": "FssCQRDbPV9D",
    "outputId": "9717c9c6-e385-4369-e658-724dcf0687d7"
   },
   "outputs": [
    {
     "data": {
      "text/html": [
       "<div>\n",
       "<style scoped>\n",
       "    .dataframe tbody tr th:only-of-type {\n",
       "        vertical-align: middle;\n",
       "    }\n",
       "\n",
       "    .dataframe tbody tr th {\n",
       "        vertical-align: top;\n",
       "    }\n",
       "\n",
       "    .dataframe thead th {\n",
       "        text-align: right;\n",
       "    }\n",
       "</style>\n",
       "<table border=\"1\" class=\"dataframe\">\n",
       "  <thead>\n",
       "    <tr style=\"text-align: right;\">\n",
       "      <th></th>\n",
       "      <th>date</th>\n",
       "      <th>1. open</th>\n",
       "      <th>2. high</th>\n",
       "      <th>3. low</th>\n",
       "      <th>4. close</th>\n",
       "      <th>5. adjusted close</th>\n",
       "      <th>6. volume</th>\n",
       "      <th>7. dividend amount</th>\n",
       "    </tr>\n",
       "  </thead>\n",
       "  <tbody>\n",
       "    <tr>\n",
       "      <th>253</th>\n",
       "      <td>1999-12-31</td>\n",
       "      <td>101.0000</td>\n",
       "      <td>118.0000</td>\n",
       "      <td>91.0600</td>\n",
       "      <td>102.8100</td>\n",
       "      <td>0.7918</td>\n",
       "      <td>84091200</td>\n",
       "      <td>0.0000</td>\n",
       "    </tr>\n",
       "    <tr>\n",
       "      <th>252</th>\n",
       "      <td>2000-01-31</td>\n",
       "      <td>104.8700</td>\n",
       "      <td>121.5000</td>\n",
       "      <td>86.5000</td>\n",
       "      <td>103.7500</td>\n",
       "      <td>0.7990</td>\n",
       "      <td>112099800</td>\n",
       "      <td>0.0000</td>\n",
       "    </tr>\n",
       "    <tr>\n",
       "      <th>251</th>\n",
       "      <td>2000-02-29</td>\n",
       "      <td>104.0000</td>\n",
       "      <td>119.9400</td>\n",
       "      <td>97.0000</td>\n",
       "      <td>114.6200</td>\n",
       "      <td>0.8827</td>\n",
       "      <td>65355200</td>\n",
       "      <td>0.0000</td>\n",
       "    </tr>\n",
       "    <tr>\n",
       "      <th>250</th>\n",
       "      <td>2000-03-31</td>\n",
       "      <td>118.5600</td>\n",
       "      <td>150.3800</td>\n",
       "      <td>114.0000</td>\n",
       "      <td>135.8100</td>\n",
       "      <td>1.0459</td>\n",
       "      <td>77663900</td>\n",
       "      <td>0.0000</td>\n",
       "    </tr>\n",
       "    <tr>\n",
       "      <th>249</th>\n",
       "      <td>2000-04-28</td>\n",
       "      <td>135.5000</td>\n",
       "      <td>139.5000</td>\n",
       "      <td>104.8700</td>\n",
       "      <td>124.0600</td>\n",
       "      <td>0.9554</td>\n",
       "      <td>77342900</td>\n",
       "      <td>0.0000</td>\n",
       "    </tr>\n",
       "  </tbody>\n",
       "</table>\n",
       "</div>"
      ],
      "text/plain": [
       "          date   1. open  ...  6. volume 7. dividend amount\n",
       "253 1999-12-31  101.0000  ...   84091200             0.0000\n",
       "252 2000-01-31  104.8700  ...  112099800             0.0000\n",
       "251 2000-02-29  104.0000  ...   65355200             0.0000\n",
       "250 2000-03-31  118.5600  ...   77663900             0.0000\n",
       "249 2000-04-28  135.5000  ...   77342900             0.0000\n",
       "\n",
       "[5 rows x 8 columns]"
      ]
     },
     "execution_count": 27,
     "metadata": {
      "tags": []
     },
     "output_type": "execute_result"
    }
   ],
   "source": [
    "# Converting date and adj close price column to datetime and numeric objects, respectively\n",
    "applmonth['date'] = pd.to_datetime(applmonth['date'], format='%Y-%m-%d')\n",
    "applmonth['5. adjusted close'] = pd.to_numeric(applmonth['5. adjusted close'],errors='coerce')\n",
    "applmonth.head()"
   ]
  },
  {
   "cell_type": "code",
   "execution_count": null,
   "metadata": {
    "id": "xTeSAmstPV9D"
   },
   "outputs": [],
   "source": [
    "# Calculating SMA\n",
    "applmonth['SMA11'] = applmonth.iloc[:,5].rolling(window=11).mean()"
   ]
  },
  {
   "cell_type": "code",
   "execution_count": null,
   "metadata": {
    "colab": {
     "base_uri": "https://localhost:8080/",
     "height": 537
    },
    "id": "jYkxkEdfPV9D",
    "outputId": "e4a5947d-baa8-4339-edb1-925f8d76df28",
    "scrolled": false
   },
   "outputs": [
    {
     "data": {
      "image/png": "[encoded data removed]",
      "text/plain": [
       "<Figure size 864x648 with 1 Axes>"
      ]
     },
     "metadata": {
      "needs_background": "light",
      "tags": []
     },
     "output_type": "display_data"
    }
   ],
   "source": [
    "# Plotting SMA vs. adj stock price\n",
    "plt.figure(figsize=(12,9))\n",
    "plt.plot(applmonth['date'], applmonth['5. adjusted close'])\n",
    "plt.plot(applmonth['date'], applmonth['SMA11'])\n",
    "plt.show()"
   ]
  },
  {
   "cell_type": "markdown",
   "metadata": {
    "id": "Mk41pPxNPV9E"
   },
   "source": [
    "Simple moving average with 11 months seems to produce an interesting trading strategy - buy whenever price is above SMA and sell whenever price is below SMA"
   ]
  },
  {
   "cell_type": "markdown",
   "metadata": {
    "id": "vC8nuRYpPV9E"
   },
   "source": [
    "### Trying out pandas_datareader library\n",
    "\n",
    "This will ideally make it easier to try out new trading strategies"
   ]
  },
  {
   "cell_type": "code",
   "execution_count": 6,
   "metadata": {
    "id": "rYbjZ_1LPV9E"
   },
   "outputs": [],
   "source": [
    "from datetime import datetime\n",
    "import pandas_datareader.data as web"
   ]
  },
  {
   "cell_type": "markdown",
   "metadata": {
    "id": "AzDoRcL6PV9E"
   },
   "source": [
    "Apple SMA with panas_datareader library"
   ]
  },
  {
   "cell_type": "code",
   "execution_count": null,
   "metadata": {
    "colab": {
     "base_uri": "https://localhost:8080/",
     "height": 204
    },
    "id": "j6lkU7k5PV9E",
    "outputId": "28ef1ad1-2347-4434-acf2-c995a1222058"
   },
   "outputs": [
    {
     "data": {
      "text/html": [
       "<div>\n",
       "<style scoped>\n",
       "    .dataframe tbody tr th:only-of-type {\n",
       "        vertical-align: middle;\n",
       "    }\n",
       "\n",
       "    .dataframe tbody tr th {\n",
       "        vertical-align: top;\n",
       "    }\n",
       "\n",
       "    .dataframe thead th {\n",
       "        text-align: right;\n",
       "    }\n",
       "</style>\n",
       "<table border=\"1\" class=\"dataframe\">\n",
       "  <thead>\n",
       "    <tr style=\"text-align: right;\">\n",
       "      <th></th>\n",
       "      <th>date</th>\n",
       "      <th>open</th>\n",
       "      <th>high</th>\n",
       "      <th>low</th>\n",
       "      <th>close</th>\n",
       "      <th>adjusted close</th>\n",
       "      <th>volume</th>\n",
       "      <th>dividend amount</th>\n",
       "    </tr>\n",
       "  </thead>\n",
       "  <tbody>\n",
       "    <tr>\n",
       "      <th>0</th>\n",
       "      <td>2000-01-31</td>\n",
       "      <td>104.87</td>\n",
       "      <td>121.50</td>\n",
       "      <td>86.50</td>\n",
       "      <td>103.75</td>\n",
       "      <td>0.7990</td>\n",
       "      <td>112099800</td>\n",
       "      <td>0.0</td>\n",
       "    </tr>\n",
       "    <tr>\n",
       "      <th>1</th>\n",
       "      <td>2000-02-29</td>\n",
       "      <td>104.00</td>\n",
       "      <td>119.94</td>\n",
       "      <td>97.00</td>\n",
       "      <td>114.62</td>\n",
       "      <td>0.8827</td>\n",
       "      <td>65355200</td>\n",
       "      <td>0.0</td>\n",
       "    </tr>\n",
       "    <tr>\n",
       "      <th>2</th>\n",
       "      <td>2000-03-31</td>\n",
       "      <td>118.56</td>\n",
       "      <td>150.38</td>\n",
       "      <td>114.00</td>\n",
       "      <td>135.81</td>\n",
       "      <td>1.0459</td>\n",
       "      <td>77663900</td>\n",
       "      <td>0.0</td>\n",
       "    </tr>\n",
       "    <tr>\n",
       "      <th>3</th>\n",
       "      <td>2000-04-28</td>\n",
       "      <td>135.50</td>\n",
       "      <td>139.50</td>\n",
       "      <td>104.87</td>\n",
       "      <td>124.06</td>\n",
       "      <td>0.9554</td>\n",
       "      <td>77342900</td>\n",
       "      <td>0.0</td>\n",
       "    </tr>\n",
       "    <tr>\n",
       "      <th>4</th>\n",
       "      <td>2000-05-31</td>\n",
       "      <td>124.87</td>\n",
       "      <td>126.25</td>\n",
       "      <td>81.75</td>\n",
       "      <td>84.00</td>\n",
       "      <td>0.6469</td>\n",
       "      <td>87569200</td>\n",
       "      <td>0.0</td>\n",
       "    </tr>\n",
       "  </tbody>\n",
       "</table>\n",
       "</div>"
      ],
      "text/plain": [
       "        date    open    high  ...  adjusted close     volume  dividend amount\n",
       "0 2000-01-31  104.87  121.50  ...          0.7990  112099800              0.0\n",
       "1 2000-02-29  104.00  119.94  ...          0.8827   65355200              0.0\n",
       "2 2000-03-31  118.56  150.38  ...          1.0459   77663900              0.0\n",
       "3 2000-04-28  135.50  139.50  ...          0.9554   77342900              0.0\n",
       "4 2000-05-31  124.87  126.25  ...          0.6469   87569200              0.0\n",
       "\n",
       "[5 rows x 8 columns]"
      ]
     },
     "execution_count": 32,
     "metadata": {
      "tags": []
     },
     "output_type": "execute_result"
    }
   ],
   "source": [
    "f = web.DataReader(\"AAPL\", \"av-monthly-adjusted\", start=datetime(2000, 1, 1), end=datetime(2020, 1, 1), api_key=avkey)\n",
    "f = f.reset_index()\n",
    "f = f.rename(columns = {'index':'date'})\n",
    "f['date'] = pd.to_datetime(f['date'], format='%Y-%m-%d')\n",
    "f.head()"
   ]
  },
  {
   "cell_type": "code",
   "execution_count": null,
   "metadata": {
    "id": "jOEy6aDJPV9F"
   },
   "outputs": [],
   "source": [
    "f['SMA11'] = f.iloc[:,5].rolling(window=11).mean()"
   ]
  },
  {
   "cell_type": "code",
   "execution_count": null,
   "metadata": {
    "colab": {
     "base_uri": "https://localhost:8080/",
     "height": 537
    },
    "id": "1sjEUjA0PV9F",
    "outputId": "598e1624-9b31-4090-b11f-8d0bb315f44d"
   },
   "outputs": [
    {
     "data": {
      "image/png": "[encoded data removed]",
      "text/plain": [
       "<Figure size 864x648 with 1 Axes>"
      ]
     },
     "metadata": {
      "needs_background": "light",
      "tags": []
     },
     "output_type": "display_data"
    }
   ],
   "source": [
    "plt.figure(figsize=(12,9))\n",
    "plt.plot(f['date'], f['adjusted close'])\n",
    "plt.plot(f['date'], f['SMA11'])\n",
    "plt.show()"
   ]
  },
  {
   "cell_type": "markdown",
   "metadata": {
    "id": "IdmdvU2gCdxn"
   },
   "source": [
    "## **Algorithmic Trading Strategies**\n",
    "\n",
    "---"
   ]
  },
  {
   "cell_type": "markdown",
   "metadata": {
    "id": "nzxwzRGBPV9F"
   },
   "source": [
    "### Momentum Strategy"
   ]
  },
  {
   "cell_type": "code",
   "execution_count": null,
   "metadata": {
    "id": "Ta-tforqPV9F"
   },
   "outputs": [],
   "source": [
    "# Momentum: buy stocks with a high return in the past and short sell stocks that have a low return in the past\n",
    "# Specific strategy will involve looking at the past 3 weeks of a stock's performance and buying winners/losers based on past 3 week performance\n",
    "\n",
    "# Going to use Dow Jones Industrial Average (DJIA) stocks from 2005-2010 for initial\n",
    "dji = pd.read_html('https://finance.yahoo.com/quote/%5EDJI/components/')[0]\n",
    "djitickers = list(dji['Symbol'])"
   ]
  },
  {
   "cell_type": "code",
   "execution_count": null,
   "metadata": {
    "colab": {
     "base_uri": "https://localhost:8080/"
    },
    "id": "2U18941EPV9F",
    "outputId": "dda0f73b-c04b-4c8e-e56c-02d02d2ccda2"
   },
   "outputs": [
    {
     "name": "stderr",
     "output_type": "stream",
     "text": [
      "/usr/local/lib/python3.6/dist-packages/pandas_datareader/base.py:272: SymbolWarning: Failed to read symbol: 'DOW', replacing with NaN.\n",
      "  warnings.warn(msg.format(sym), SymbolWarning)\n"
     ]
    }
   ],
   "source": [
    "# Getting DGIA stock data for 2010-2015\n",
    "start = datetime(2010, 1, 1)\n",
    "end = datetime(2015, 1, 1)\n",
    "\n",
    "djidata = web.DataReader(djitickers, \"yahoo\", start=start, end=end)\n",
    "djidata = djidata['Adj Close']\n",
    "djidata = djidata.drop(columns=['DOW'])"
   ]
  },
  {
   "cell_type": "code",
   "execution_count": null,
   "metadata": {
    "id": "ktk0wnucPV9G"
   },
   "outputs": [],
   "source": [
    "# Finding percent change on a weekly basis of DJIA data\n",
    "pct_change = djidata.pct_change()\n",
    "weekly_ret = pct_change.resample('W').agg(lambda x:(x+1).prod()-1)"
   ]
  },
  {
   "cell_type": "code",
   "execution_count": null,
   "metadata": {
    "colab": {
     "base_uri": "https://localhost:8080/",
     "height": 340
    },
    "id": "fZSfyDoyPV9G",
    "outputId": "e4105d08-ab86-45ea-d459-88fbd71c4bf7"
   },
   "outputs": [
    {
     "data": {
      "text/html": [
       "<div>\n",
       "<style scoped>\n",
       "    .dataframe tbody tr th:only-of-type {\n",
       "        vertical-align: middle;\n",
       "    }\n",
       "\n",
       "    .dataframe tbody tr th {\n",
       "        vertical-align: top;\n",
       "    }\n",
       "\n",
       "    .dataframe thead th {\n",
       "        text-align: right;\n",
       "    }\n",
       "</style>\n",
       "<table border=\"1\" class=\"dataframe\">\n",
       "  <thead>\n",
       "    <tr style=\"text-align: right;\">\n",
       "      <th>Symbols</th>\n",
       "      <th>DIS</th>\n",
       "      <th>NKE</th>\n",
       "      <th>INTC</th>\n",
       "      <th>IBM</th>\n",
       "      <th>CAT</th>\n",
       "      <th>AMGN</th>\n",
       "      <th>CVX</th>\n",
       "      <th>WMT</th>\n",
       "      <th>JNJ</th>\n",
       "      <th>PG</th>\n",
       "      <th>HON</th>\n",
       "      <th>HD</th>\n",
       "      <th>VZ</th>\n",
       "      <th>MMM</th>\n",
       "      <th>AXP</th>\n",
       "      <th>MCD</th>\n",
       "      <th>MSFT</th>\n",
       "      <th>GS</th>\n",
       "      <th>CSCO</th>\n",
       "      <th>UNH</th>\n",
       "      <th>JPM</th>\n",
       "      <th>V</th>\n",
       "      <th>BA</th>\n",
       "      <th>CRM</th>\n",
       "      <th>TRV</th>\n",
       "      <th>KO</th>\n",
       "      <th>MRK</th>\n",
       "      <th>AAPL</th>\n",
       "      <th>WBA</th>\n",
       "    </tr>\n",
       "    <tr>\n",
       "      <th>Date</th>\n",
       "      <th></th>\n",
       "      <th></th>\n",
       "      <th></th>\n",
       "      <th></th>\n",
       "      <th></th>\n",
       "      <th></th>\n",
       "      <th></th>\n",
       "      <th></th>\n",
       "      <th></th>\n",
       "      <th></th>\n",
       "      <th></th>\n",
       "      <th></th>\n",
       "      <th></th>\n",
       "      <th></th>\n",
       "      <th></th>\n",
       "      <th></th>\n",
       "      <th></th>\n",
       "      <th></th>\n",
       "      <th></th>\n",
       "      <th></th>\n",
       "      <th></th>\n",
       "      <th></th>\n",
       "      <th></th>\n",
       "      <th></th>\n",
       "      <th></th>\n",
       "      <th></th>\n",
       "      <th></th>\n",
       "      <th></th>\n",
       "      <th></th>\n",
       "    </tr>\n",
       "  </thead>\n",
       "  <tbody>\n",
       "    <tr>\n",
       "      <th>2010-01-10</th>\n",
       "      <td>-0.005925</td>\n",
       "      <td>0.005662</td>\n",
       "      <td>-0.002394</td>\n",
       "      <td>-0.012080</td>\n",
       "      <td>0.030572</td>\n",
       "      <td>-0.016459</td>\n",
       "      <td>0.005186</td>\n",
       "      <td>-0.016596</td>\n",
       "      <td>-0.007266</td>\n",
       "      <td>-0.011125</td>\n",
       "      <td>0.043866</td>\n",
       "      <td>0.010813</td>\n",
       "      <td>-0.032185</td>\n",
       "      <td>0.015659</td>\n",
       "      <td>0.029638</td>\n",
       "      <td>-0.014973</td>\n",
       "      <td>-0.009370</td>\n",
       "      <td>0.007106</td>\n",
       "      <td>-0.001215</td>\n",
       "      <td>0.037107</td>\n",
       "      <td>0.042707</td>\n",
       "      <td>-0.012934</td>\n",
       "      <td>0.096476</td>\n",
       "      <td>-0.008955</td>\n",
       "      <td>-0.025095</td>\n",
       "      <td>-0.033134</td>\n",
       "      <td>0.018644</td>\n",
       "      <td>-0.009485</td>\n",
       "      <td>-0.008311</td>\n",
       "    </tr>\n",
       "    <tr>\n",
       "      <th>2010-01-17</th>\n",
       "      <td>-0.040150</td>\n",
       "      <td>-0.020237</td>\n",
       "      <td>-0.001440</td>\n",
       "      <td>0.007107</td>\n",
       "      <td>0.003152</td>\n",
       "      <td>-0.009160</td>\n",
       "      <td>-0.003020</td>\n",
       "      <td>0.006563</td>\n",
       "      <td>0.005451</td>\n",
       "      <td>0.006287</td>\n",
       "      <td>0.012108</td>\n",
       "      <td>-0.014148</td>\n",
       "      <td>-0.036850</td>\n",
       "      <td>-0.011267</td>\n",
       "      <td>0.010489</td>\n",
       "      <td>0.007115</td>\n",
       "      <td>0.006523</td>\n",
       "      <td>-0.052206</td>\n",
       "      <td>-0.010543</td>\n",
       "      <td>0.032110</td>\n",
       "      <td>-0.022381</td>\n",
       "      <td>-0.009885</td>\n",
       "      <td>-0.012662</td>\n",
       "      <td>-0.074444</td>\n",
       "      <td>0.004736</td>\n",
       "      <td>0.020670</td>\n",
       "      <td>0.046950</td>\n",
       "      <td>-0.028541</td>\n",
       "      <td>-0.010544</td>\n",
       "    </tr>\n",
       "    <tr>\n",
       "      <th>2010-01-24</th>\n",
       "      <td>-0.020261</td>\n",
       "      <td>-0.021898</td>\n",
       "      <td>-0.042789</td>\n",
       "      <td>-0.047655</td>\n",
       "      <td>-0.097638</td>\n",
       "      <td>0.006222</td>\n",
       "      <td>-0.058564</td>\n",
       "      <td>-0.013785</td>\n",
       "      <td>-0.021065</td>\n",
       "      <td>-0.001265</td>\n",
       "      <td>-0.064508</td>\n",
       "      <td>-0.029751</td>\n",
       "      <td>-0.007849</td>\n",
       "      <td>-0.022670</td>\n",
       "      <td>-0.089644</td>\n",
       "      <td>0.017823</td>\n",
       "      <td>-0.061568</td>\n",
       "      <td>-0.067127</td>\n",
       "      <td>-0.058607</td>\n",
       "      <td>-0.017481</td>\n",
       "      <td>-0.103480</td>\n",
       "      <td>-0.039587</td>\n",
       "      <td>-0.050148</td>\n",
       "      <td>-0.059595</td>\n",
       "      <td>-0.009838</td>\n",
       "      <td>-0.036418</td>\n",
       "      <td>-0.015202</td>\n",
       "      <td>-0.039722</td>\n",
       "      <td>-0.016666</td>\n",
       "    </tr>\n",
       "    <tr>\n",
       "      <th>2010-01-31</th>\n",
       "      <td>-0.014343</td>\n",
       "      <td>0.012226</td>\n",
       "      <td>-0.025615</td>\n",
       "      <td>-0.024781</td>\n",
       "      <td>-0.037050</td>\n",
       "      <td>0.033216</td>\n",
       "      <td>-0.033114</td>\n",
       "      <td>0.009256</td>\n",
       "      <td>-0.005380</td>\n",
       "      <td>0.020560</td>\n",
       "      <td>-0.031093</td>\n",
       "      <td>0.010462</td>\n",
       "      <td>-0.030323</td>\n",
       "      <td>-0.012150</td>\n",
       "      <td>-0.024099</td>\n",
       "      <td>-0.015144</td>\n",
       "      <td>-0.026934</td>\n",
       "      <td>-0.035038</td>\n",
       "      <td>-0.021768</td>\n",
       "      <td>-0.004826</td>\n",
       "      <td>-0.005618</td>\n",
       "      <td>-0.008461</td>\n",
       "      <td>0.048987</td>\n",
       "      <td>-0.015339</td>\n",
       "      <td>0.048851</td>\n",
       "      <td>0.000184</td>\n",
       "      <td>-0.017752</td>\n",
       "      <td>-0.028774</td>\n",
       "      <td>0.001667</td>\n",
       "    </tr>\n",
       "    <tr>\n",
       "      <th>2010-02-07</th>\n",
       "      <td>-0.000338</td>\n",
       "      <td>-0.032157</td>\n",
       "      <td>0.011636</td>\n",
       "      <td>0.009233</td>\n",
       "      <td>-0.009380</td>\n",
       "      <td>-0.013680</td>\n",
       "      <td>-0.013034</td>\n",
       "      <td>0.000375</td>\n",
       "      <td>-0.003500</td>\n",
       "      <td>-0.004062</td>\n",
       "      <td>-0.030279</td>\n",
       "      <td>-0.001071</td>\n",
       "      <td>-0.023113</td>\n",
       "      <td>-0.024227</td>\n",
       "      <td>0.005045</td>\n",
       "      <td>0.015057</td>\n",
       "      <td>-0.005678</td>\n",
       "      <td>0.036579</td>\n",
       "      <td>0.054740</td>\n",
       "      <td>-0.013939</td>\n",
       "      <td>-0.016436</td>\n",
       "      <td>0.006461</td>\n",
       "      <td>-0.029724</td>\n",
       "      <td>-0.023131</td>\n",
       "      <td>-0.007697</td>\n",
       "      <td>-0.021383</td>\n",
       "      <td>-0.037978</td>\n",
       "      <td>0.017703</td>\n",
       "      <td>-0.076005</td>\n",
       "    </tr>\n",
       "  </tbody>\n",
       "</table>\n",
       "</div>"
      ],
      "text/plain": [
       "Symbols          DIS       NKE      INTC  ...       MRK      AAPL       WBA\n",
       "Date                                      ...                              \n",
       "2010-01-10 -0.005925  0.005662 -0.002394  ...  0.018644 -0.009485 -0.008311\n",
       "2010-01-17 -0.040150 -0.020237 -0.001440  ...  0.046950 -0.028541 -0.010544\n",
       "2010-01-24 -0.020261 -0.021898 -0.042789  ... -0.015202 -0.039722 -0.016666\n",
       "2010-01-31 -0.014343  0.012226 -0.025615  ... -0.017752 -0.028774  0.001667\n",
       "2010-02-07 -0.000338 -0.032157  0.011636  ... -0.037978  0.017703 -0.076005\n",
       "\n",
       "[5 rows x 29 columns]"
      ]
     },
     "execution_count": 38,
     "metadata": {
      "tags": []
     },
     "output_type": "execute_result"
    }
   ],
   "source": [
    "weekly_ret.head()"
   ]
  },
  {
   "cell_type": "code",
   "execution_count": null,
   "metadata": {
    "id": "11Vcy9vEPV9G"
   },
   "outputs": [],
   "source": [
    "# Rolling window to find returns over the past 3 weeks for any point in time\n",
    "import numpy as np\n",
    "\n",
    "past_3 = (weekly_ret+1).rolling(3).apply(np.prod)-1"
   ]
  },
  {
   "cell_type": "code",
   "execution_count": null,
   "metadata": {
    "colab": {
     "base_uri": "https://localhost:8080/",
     "height": 340
    },
    "id": "3Hj6ghOdPV9H",
    "outputId": "63b2569a-cd7b-4a3d-a0b1-ccfe46a893b5"
   },
   "outputs": [
    {
     "data": {
      "text/html": [
       "<div>\n",
       "<style scoped>\n",
       "    .dataframe tbody tr th:only-of-type {\n",
       "        vertical-align: middle;\n",
       "    }\n",
       "\n",
       "    .dataframe tbody tr th {\n",
       "        vertical-align: top;\n",
       "    }\n",
       "\n",
       "    .dataframe thead th {\n",
       "        text-align: right;\n",
       "    }\n",
       "</style>\n",
       "<table border=\"1\" class=\"dataframe\">\n",
       "  <thead>\n",
       "    <tr style=\"text-align: right;\">\n",
       "      <th>Symbols</th>\n",
       "      <th>DIS</th>\n",
       "      <th>NKE</th>\n",
       "      <th>INTC</th>\n",
       "      <th>IBM</th>\n",
       "      <th>CAT</th>\n",
       "      <th>AMGN</th>\n",
       "      <th>CVX</th>\n",
       "      <th>WMT</th>\n",
       "      <th>JNJ</th>\n",
       "      <th>PG</th>\n",
       "      <th>HON</th>\n",
       "      <th>HD</th>\n",
       "      <th>VZ</th>\n",
       "      <th>MMM</th>\n",
       "      <th>AXP</th>\n",
       "      <th>MCD</th>\n",
       "      <th>MSFT</th>\n",
       "      <th>GS</th>\n",
       "      <th>CSCO</th>\n",
       "      <th>UNH</th>\n",
       "      <th>JPM</th>\n",
       "      <th>V</th>\n",
       "      <th>BA</th>\n",
       "      <th>CRM</th>\n",
       "      <th>TRV</th>\n",
       "      <th>KO</th>\n",
       "      <th>MRK</th>\n",
       "      <th>AAPL</th>\n",
       "      <th>WBA</th>\n",
       "    </tr>\n",
       "    <tr>\n",
       "      <th>Date</th>\n",
       "      <th></th>\n",
       "      <th></th>\n",
       "      <th></th>\n",
       "      <th></th>\n",
       "      <th></th>\n",
       "      <th></th>\n",
       "      <th></th>\n",
       "      <th></th>\n",
       "      <th></th>\n",
       "      <th></th>\n",
       "      <th></th>\n",
       "      <th></th>\n",
       "      <th></th>\n",
       "      <th></th>\n",
       "      <th></th>\n",
       "      <th></th>\n",
       "      <th></th>\n",
       "      <th></th>\n",
       "      <th></th>\n",
       "      <th></th>\n",
       "      <th></th>\n",
       "      <th></th>\n",
       "      <th></th>\n",
       "      <th></th>\n",
       "      <th></th>\n",
       "      <th></th>\n",
       "      <th></th>\n",
       "      <th></th>\n",
       "      <th></th>\n",
       "    </tr>\n",
       "  </thead>\n",
       "  <tbody>\n",
       "    <tr>\n",
       "      <th>2010-01-10</th>\n",
       "      <td>NaN</td>\n",
       "      <td>NaN</td>\n",
       "      <td>NaN</td>\n",
       "      <td>NaN</td>\n",
       "      <td>NaN</td>\n",
       "      <td>NaN</td>\n",
       "      <td>NaN</td>\n",
       "      <td>NaN</td>\n",
       "      <td>NaN</td>\n",
       "      <td>NaN</td>\n",
       "      <td>NaN</td>\n",
       "      <td>NaN</td>\n",
       "      <td>NaN</td>\n",
       "      <td>NaN</td>\n",
       "      <td>NaN</td>\n",
       "      <td>NaN</td>\n",
       "      <td>NaN</td>\n",
       "      <td>NaN</td>\n",
       "      <td>NaN</td>\n",
       "      <td>NaN</td>\n",
       "      <td>NaN</td>\n",
       "      <td>NaN</td>\n",
       "      <td>NaN</td>\n",
       "      <td>NaN</td>\n",
       "      <td>NaN</td>\n",
       "      <td>NaN</td>\n",
       "      <td>NaN</td>\n",
       "      <td>NaN</td>\n",
       "      <td>NaN</td>\n",
       "    </tr>\n",
       "    <tr>\n",
       "      <th>2010-01-17</th>\n",
       "      <td>NaN</td>\n",
       "      <td>NaN</td>\n",
       "      <td>NaN</td>\n",
       "      <td>NaN</td>\n",
       "      <td>NaN</td>\n",
       "      <td>NaN</td>\n",
       "      <td>NaN</td>\n",
       "      <td>NaN</td>\n",
       "      <td>NaN</td>\n",
       "      <td>NaN</td>\n",
       "      <td>NaN</td>\n",
       "      <td>NaN</td>\n",
       "      <td>NaN</td>\n",
       "      <td>NaN</td>\n",
       "      <td>NaN</td>\n",
       "      <td>NaN</td>\n",
       "      <td>NaN</td>\n",
       "      <td>NaN</td>\n",
       "      <td>NaN</td>\n",
       "      <td>NaN</td>\n",
       "      <td>NaN</td>\n",
       "      <td>NaN</td>\n",
       "      <td>NaN</td>\n",
       "      <td>NaN</td>\n",
       "      <td>NaN</td>\n",
       "      <td>NaN</td>\n",
       "      <td>NaN</td>\n",
       "      <td>NaN</td>\n",
       "      <td>NaN</td>\n",
       "    </tr>\n",
       "    <tr>\n",
       "      <th>2010-01-24</th>\n",
       "      <td>-0.065170</td>\n",
       "      <td>-0.036266</td>\n",
       "      <td>-0.046456</td>\n",
       "      <td>-0.052473</td>\n",
       "      <td>-0.067120</td>\n",
       "      <td>-0.019404</td>\n",
       "      <td>-0.056539</td>\n",
       "      <td>-0.023787</td>\n",
       "      <td>-0.022882</td>\n",
       "      <td>-0.006167</td>\n",
       "      <td>-0.011649</td>\n",
       "      <td>-0.033136</td>\n",
       "      <td>-0.075165</td>\n",
       "      <td>-0.018550</td>\n",
       "      <td>-0.052831</td>\n",
       "      <td>0.009716</td>\n",
       "      <td>-0.064297</td>\n",
       "      <td>-0.109545</td>\n",
       "      <td>-0.069664</td>\n",
       "      <td>0.051697</td>\n",
       "      <td>-0.086114</td>\n",
       "      <td>-0.061380</td>\n",
       "      <td>0.028302</td>\n",
       "      <td>-0.137396</td>\n",
       "      <td>-0.030115</td>\n",
       "      <td>-0.049088</td>\n",
       "      <td>0.050257</td>\n",
       "      <td>-0.075978</td>\n",
       "      <td>-0.035121</td>\n",
       "    </tr>\n",
       "    <tr>\n",
       "      <th>2010-01-31</th>\n",
       "      <td>-0.073086</td>\n",
       "      <td>-0.029976</td>\n",
       "      <td>-0.068651</td>\n",
       "      <td>-0.064654</td>\n",
       "      <td>-0.128332</td>\n",
       "      <td>0.030121</td>\n",
       "      <td>-0.092488</td>\n",
       "      <td>0.001875</td>\n",
       "      <td>-0.021025</td>\n",
       "      <td>0.025677</td>\n",
       "      <td>-0.082621</td>\n",
       "      <td>-0.033471</td>\n",
       "      <td>-0.073386</td>\n",
       "      <td>-0.045422</td>\n",
       "      <td>-0.102265</td>\n",
       "      <td>0.009541</td>\n",
       "      <td>-0.080887</td>\n",
       "      <td>-0.146807</td>\n",
       "      <td>-0.088808</td>\n",
       "      <td>0.009174</td>\n",
       "      <td>-0.128469</td>\n",
       "      <td>-0.057126</td>\n",
       "      <td>-0.016234</td>\n",
       "      <td>-0.142954</td>\n",
       "      <td>0.043451</td>\n",
       "      <td>-0.016319</td>\n",
       "      <td>0.012732</td>\n",
       "      <td>-0.093971</td>\n",
       "      <td>-0.025413</td>\n",
       "    </tr>\n",
       "    <tr>\n",
       "      <th>2010-02-07</th>\n",
       "      <td>-0.034640</td>\n",
       "      <td>-0.041777</td>\n",
       "      <td>-0.056454</td>\n",
       "      <td>-0.062680</td>\n",
       "      <td>-0.139222</td>\n",
       "      <td>0.025422</td>\n",
       "      <td>-0.101603</td>\n",
       "      <td>-0.004284</td>\n",
       "      <td>-0.029740</td>\n",
       "      <td>0.015129</td>\n",
       "      <td>-0.121041</td>\n",
       "      <td>-0.020651</td>\n",
       "      <td>-0.060170</td>\n",
       "      <td>-0.057935</td>\n",
       "      <td>-0.107101</td>\n",
       "      <td>0.017502</td>\n",
       "      <td>-0.092028</td>\n",
       "      <td>-0.066884</td>\n",
       "      <td>-0.028689</td>\n",
       "      <td>-0.035852</td>\n",
       "      <td>-0.123168</td>\n",
       "      <td>-0.041560</td>\n",
       "      <td>-0.033234</td>\n",
       "      <td>-0.095439</td>\n",
       "      <td>0.030539</td>\n",
       "      <td>-0.056848</td>\n",
       "      <td>-0.069420</td>\n",
       "      <td>-0.050842</td>\n",
       "      <td>-0.089890</td>\n",
       "    </tr>\n",
       "  </tbody>\n",
       "</table>\n",
       "</div>"
      ],
      "text/plain": [
       "Symbols          DIS       NKE      INTC  ...       MRK      AAPL       WBA\n",
       "Date                                      ...                              \n",
       "2010-01-10       NaN       NaN       NaN  ...       NaN       NaN       NaN\n",
       "2010-01-17       NaN       NaN       NaN  ...       NaN       NaN       NaN\n",
       "2010-01-24 -0.065170 -0.036266 -0.046456  ...  0.050257 -0.075978 -0.035121\n",
       "2010-01-31 -0.073086 -0.029976 -0.068651  ...  0.012732 -0.093971 -0.025413\n",
       "2010-02-07 -0.034640 -0.041777 -0.056454  ... -0.069420 -0.050842 -0.089890\n",
       "\n",
       "[5 rows x 29 columns]"
      ]
     },
     "execution_count": 40,
     "metadata": {
      "tags": []
     },
     "output_type": "execute_result"
    }
   ],
   "source": [
    "past_3.head()"
   ]
  },
  {
   "cell_type": "code",
   "execution_count": null,
   "metadata": {
    "id": "xlqJ9dRFPV9H"
   },
   "outputs": [],
   "source": [
    "from dateutil.relativedelta import relativedelta\n",
    "\n",
    "# Finding the results of the previous 3 weeks' returns to determine which stocks to buy/short sell\n",
    "formation = datetime(2015, 1, 4) # Date we're making the portfolio\n",
    "prev = formation-relativedelta(weeks=1)\n",
    "results = pd.DataFrame(past_3.loc[prev])"
   ]
  },
  {
   "cell_type": "code",
   "execution_count": null,
   "metadata": {
    "colab": {
     "base_uri": "https://localhost:8080/"
    },
    "id": "7gY9xx_iPV9H",
    "outputId": "2e6fc00e-fc85-4dd2-e95e-eaffcadc9e7c"
   },
   "outputs": [
    {
     "name": "stdout",
     "output_type": "stream",
     "text": [
      "Winners:  ['WMT', 'PG', 'HD', 'CSCO', 'CRM', 'WBA']\n",
      "Losers:  ['NKE', 'CAT', 'AMGN', 'JNJ', 'MCD', 'MRK']\n"
     ]
    }
   ],
   "source": [
    "# Binning our returns to determine our \"winners\" (which we buy) and \"losers\" (which we short sell)\n",
    "results['bin'] = pd.qcut(results.iloc[:,0], q=5, labels=False)\n",
    "winners = results[results['bin'] == 4].reset_index()['Symbols'].tolist()\n",
    "losers = results[results['bin'] == 0].reset_index()['Symbols'].tolist()\n",
    "print(\"Winners: \", winners)\n",
    "print(\"Losers: \", losers)"
   ]
  },
  {
   "cell_type": "code",
   "execution_count": null,
   "metadata": {
    "id": "PksYHk-EPV9H"
   },
   "outputs": [],
   "source": [
    "# Finding the profit of the momentum strategy gave good returns\n",
    "\n",
    "winprofit = weekly_ret.loc[formation, weekly_ret.columns.isin(winners)].mean()\n",
    "loseprofit = weekly_ret.loc[formation, weekly_ret.columns.isin(losers)].mean()\n",
    "profit = winprofit - loseprofit"
   ]
  },
  {
   "cell_type": "code",
   "execution_count": null,
   "metadata": {
    "colab": {
     "base_uri": "https://localhost:8080/"
    },
    "id": "LD0gv8lUPV9H",
    "outputId": "25dc2286-4ff5-445a-9a77-f4aa9c865f8c"
   },
   "outputs": [
    {
     "data": {
      "text/plain": [
       "0.0037210041354374303"
      ]
     },
     "execution_count": 44,
     "metadata": {
      "tags": []
     },
     "output_type": "execute_result"
    }
   ],
   "source": [
    "profit"
   ]
  },
  {
   "cell_type": "markdown",
   "metadata": {
    "id": "WKKXgrevPV9I"
   },
   "source": [
    "Profit is around 0.4%, so not terrible for the week (?) - more testing required and possible modifications to the implementation are required"
   ]
  },
  {
   "cell_type": "markdown",
   "metadata": {
    "id": "rLr4YkAOCEbg"
   },
   "source": [
    "### Money Flow Index (MFI) Strategy\n",
    "\n",
    "Also known as volume-weighted RSI\n",
    "\n",
    "\n",
    "*   MFI > 80: Overbought (sell)\n",
    "*   MFI < 20: Oversold (buy)\n",
    "\n"
   ]
  },
  {
   "cell_type": "code",
   "execution_count": 1,
   "metadata": {},
   "outputs": [],
   "source": [
    "# Trying AlphaVantage API\n",
    "from utility import av_call\n",
    "import pandas as pd\n",
    "import algorithms.mfi as mfi"
   ]
  },
  {
   "cell_type": "code",
   "execution_count": 2,
   "metadata": {},
   "outputs": [
    {
     "data": {
      "text/plain": [
       "([], [])"
      ]
     },
     "execution_count": 2,
     "metadata": {},
     "output_type": "execute_result"
    }
   ],
   "source": [
    "x = mfi.MFI(20, 80, 14, ['IBM'])\n",
    "x.get_signals()"
   ]
  },
  {
   "cell_type": "code",
   "execution_count": 4,
   "metadata": {},
   "outputs": [],
   "source": [
    "params = {\n",
    "    'symbol' : 'IBM',\n",
    "    'interval' : 'daily',\n",
    "    'time_period' : '14'\n",
    "}\n",
    "x  = av_call('MFI', params)"
   ]
  },
  {
   "cell_type": "code",
   "execution_count": 8,
   "metadata": {},
   "outputs": [],
   "source": [
    "df = pd.DataFrame(x['Technical Analysis: MFI']).T.reset_index().iloc[::-1]\n"
   ]
  },
  {
   "cell_type": "code",
   "execution_count": 10,
   "metadata": {},
   "outputs": [],
   "source": [
    "df['index'] = pd.to_datetime(df['index'])\n",
    "df = df.set_index('index')"
   ]
  },
  {
   "cell_type": "code",
   "execution_count": 14,
   "metadata": {},
   "outputs": [
    {
     "data": {
      "text/plain": [
       "'62.0533'"
      ]
     },
     "execution_count": 14,
     "metadata": {},
     "output_type": "execute_result"
    }
   ],
   "source": [
    "df['MFI'][-1]"
   ]
  },
  {
   "cell_type": "code",
   "execution_count": 16,
   "metadata": {
    "id": "x2aGqznUXNWV"
   },
   "outputs": [],
   "source": [
    "import warnings\n",
    "warnings.filterwarnings('ignore')"
   ]
  },
  {
   "cell_type": "code",
   "execution_count": 18,
   "metadata": {
    "colab": {
     "base_uri": "https://localhost:8080/",
     "height": 450
    },
    "id": "JjamhRaoX1Of",
    "outputId": "000cc8ea-dd6a-4a9d-ece9-7f7f86a1d3f8"
   },
   "outputs": [
    {
     "data": {
      "text/html": [
       "<div>\n",
       "<style scoped>\n",
       "    .dataframe tbody tr th:only-of-type {\n",
       "        vertical-align: middle;\n",
       "    }\n",
       "\n",
       "    .dataframe tbody tr th {\n",
       "        vertical-align: top;\n",
       "    }\n",
       "\n",
       "    .dataframe thead th {\n",
       "        text-align: right;\n",
       "    }\n",
       "</style>\n",
       "<table border=\"1\" class=\"dataframe\">\n",
       "  <thead>\n",
       "    <tr style=\"text-align: right;\">\n",
       "      <th></th>\n",
       "      <th>High</th>\n",
       "      <th>Low</th>\n",
       "      <th>Open</th>\n",
       "      <th>Close</th>\n",
       "      <th>Volume</th>\n",
       "      <th>Adj Close</th>\n",
       "    </tr>\n",
       "    <tr>\n",
       "      <th>Date</th>\n",
       "      <th></th>\n",
       "      <th></th>\n",
       "      <th></th>\n",
       "      <th></th>\n",
       "      <th></th>\n",
       "      <th></th>\n",
       "    </tr>\n",
       "  </thead>\n",
       "  <tbody>\n",
       "    <tr>\n",
       "      <th>2010-10-01</th>\n",
       "      <td>136.279999</td>\n",
       "      <td>135.089996</td>\n",
       "      <td>135.509995</td>\n",
       "      <td>135.639999</td>\n",
       "      <td>5621200.0</td>\n",
       "      <td>97.427666</td>\n",
       "    </tr>\n",
       "    <tr>\n",
       "      <th>2010-10-04</th>\n",
       "      <td>135.919998</td>\n",
       "      <td>134.389999</td>\n",
       "      <td>135.229996</td>\n",
       "      <td>135.250000</td>\n",
       "      <td>4059900.0</td>\n",
       "      <td>97.147552</td>\n",
       "    </tr>\n",
       "    <tr>\n",
       "      <th>2010-10-05</th>\n",
       "      <td>137.899994</td>\n",
       "      <td>136.119995</td>\n",
       "      <td>136.179993</td>\n",
       "      <td>137.660004</td>\n",
       "      <td>6202500.0</td>\n",
       "      <td>98.878593</td>\n",
       "    </tr>\n",
       "    <tr>\n",
       "      <th>2010-10-06</th>\n",
       "      <td>137.960007</td>\n",
       "      <td>136.830002</td>\n",
       "      <td>136.880005</td>\n",
       "      <td>137.839996</td>\n",
       "      <td>4783000.0</td>\n",
       "      <td>99.007896</td>\n",
       "    </tr>\n",
       "    <tr>\n",
       "      <th>2010-10-07</th>\n",
       "      <td>138.880005</td>\n",
       "      <td>137.520004</td>\n",
       "      <td>137.919998</td>\n",
       "      <td>138.720001</td>\n",
       "      <td>6440800.0</td>\n",
       "      <td>99.639977</td>\n",
       "    </tr>\n",
       "    <tr>\n",
       "      <th>...</th>\n",
       "      <td>...</td>\n",
       "      <td>...</td>\n",
       "      <td>...</td>\n",
       "      <td>...</td>\n",
       "      <td>...</td>\n",
       "      <td>...</td>\n",
       "    </tr>\n",
       "    <tr>\n",
       "      <th>2021-01-05</th>\n",
       "      <td>126.680000</td>\n",
       "      <td>124.610001</td>\n",
       "      <td>125.010002</td>\n",
       "      <td>126.139999</td>\n",
       "      <td>6114600.0</td>\n",
       "      <td>126.139999</td>\n",
       "    </tr>\n",
       "    <tr>\n",
       "      <th>2021-01-06</th>\n",
       "      <td>131.880005</td>\n",
       "      <td>126.720001</td>\n",
       "      <td>126.900002</td>\n",
       "      <td>129.289993</td>\n",
       "      <td>7956700.0</td>\n",
       "      <td>129.289993</td>\n",
       "    </tr>\n",
       "    <tr>\n",
       "      <th>2021-01-07</th>\n",
       "      <td>130.460007</td>\n",
       "      <td>128.259995</td>\n",
       "      <td>130.039993</td>\n",
       "      <td>128.990005</td>\n",
       "      <td>4507400.0</td>\n",
       "      <td>128.990005</td>\n",
       "    </tr>\n",
       "    <tr>\n",
       "      <th>2021-01-08</th>\n",
       "      <td>129.320007</td>\n",
       "      <td>126.980003</td>\n",
       "      <td>128.570007</td>\n",
       "      <td>128.529999</td>\n",
       "      <td>4676200.0</td>\n",
       "      <td>128.529999</td>\n",
       "    </tr>\n",
       "    <tr>\n",
       "      <th>2021-01-11</th>\n",
       "      <td>129.679993</td>\n",
       "      <td>127.660004</td>\n",
       "      <td>127.949997</td>\n",
       "      <td>128.580002</td>\n",
       "      <td>5601900.0</td>\n",
       "      <td>128.580002</td>\n",
       "    </tr>\n",
       "  </tbody>\n",
       "</table>\n",
       "<p>2587 rows × 6 columns</p>\n",
       "</div>"
      ],
      "text/plain": [
       "                  High         Low        Open       Close     Volume  \\\n",
       "Date                                                                    \n",
       "2010-10-01  136.279999  135.089996  135.509995  135.639999  5621200.0   \n",
       "2010-10-04  135.919998  134.389999  135.229996  135.250000  4059900.0   \n",
       "2010-10-05  137.899994  136.119995  136.179993  137.660004  6202500.0   \n",
       "2010-10-06  137.960007  136.830002  136.880005  137.839996  4783000.0   \n",
       "2010-10-07  138.880005  137.520004  137.919998  138.720001  6440800.0   \n",
       "...                ...         ...         ...         ...        ...   \n",
       "2021-01-05  126.680000  124.610001  125.010002  126.139999  6114600.0   \n",
       "2021-01-06  131.880005  126.720001  126.900002  129.289993  7956700.0   \n",
       "2021-01-07  130.460007  128.259995  130.039993  128.990005  4507400.0   \n",
       "2021-01-08  129.320007  126.980003  128.570007  128.529999  4676200.0   \n",
       "2021-01-11  129.679993  127.660004  127.949997  128.580002  5601900.0   \n",
       "\n",
       "             Adj Close  \n",
       "Date                    \n",
       "2010-10-01   97.427666  \n",
       "2010-10-04   97.147552  \n",
       "2010-10-05   98.878593  \n",
       "2010-10-06   99.007896  \n",
       "2010-10-07   99.639977  \n",
       "...                ...  \n",
       "2021-01-05  126.139999  \n",
       "2021-01-06  129.289993  \n",
       "2021-01-07  128.990005  \n",
       "2021-01-08  128.529999  \n",
       "2021-01-11  128.580002  \n",
       "\n",
       "[2587 rows x 6 columns]"
      ]
     },
     "execution_count": 18,
     "metadata": {},
     "output_type": "execute_result"
    }
   ],
   "source": [
    "tsla = web.DataReader(\"IBM\", \"yahoo\", start=\"2010-10-01\", end=\"2021-01-11\")\n",
    "tsla"
   ]
  },
  {
   "cell_type": "code",
   "execution_count": 19,
   "metadata": {
    "colab": {
     "base_uri": "https://localhost:8080/",
     "height": 282
    },
    "id": "7ruTT5W-YG9y",
    "outputId": "6d5008ab-3e1a-4998-f853-82309cd6db3d"
   },
   "outputs": [
    {
     "ename": "NameError",
     "evalue": "name 'plt' is not defined",
     "output_type": "error",
     "traceback": [
      "\u001b[1;31m---------------------------------------------------------------------------\u001b[0m",
      "\u001b[1;31mNameError\u001b[0m                                 Traceback (most recent call last)",
      "\u001b[1;32m<ipython-input-19-e8c4450cb287>\u001b[0m in \u001b[0;36m<module>\u001b[1;34m\u001b[0m\n\u001b[0;32m      1\u001b[0m \u001b[1;31m# Plotting stock price over time\u001b[0m\u001b[1;33m\u001b[0m\u001b[1;33m\u001b[0m\u001b[1;33m\u001b[0m\u001b[0m\n\u001b[1;32m----> 2\u001b[1;33m \u001b[0mplt\u001b[0m\u001b[1;33m.\u001b[0m\u001b[0mplot\u001b[0m\u001b[1;33m(\u001b[0m\u001b[0mtsla\u001b[0m\u001b[1;33m[\u001b[0m\u001b[1;34m'Adj Close'\u001b[0m\u001b[1;33m]\u001b[0m\u001b[1;33m)\u001b[0m\u001b[1;33m\u001b[0m\u001b[1;33m\u001b[0m\u001b[0m\n\u001b[0m",
      "\u001b[1;31mNameError\u001b[0m: name 'plt' is not defined"
     ]
    }
   ],
   "source": [
    "# Plotting stock price over time\n",
    "plt.plot(tsla['Adj Close'])"
   ]
  },
  {
   "cell_type": "code",
   "execution_count": 20,
   "metadata": {
    "id": "A45vVe1s2BWh"
   },
   "outputs": [],
   "source": [
    "# Calculatig typical price \n",
    "tsla['typicalprice'] = (tsla['Close'] + tsla['High'] + tsla['Low'])/3"
   ]
  },
  {
   "cell_type": "code",
   "execution_count": 21,
   "metadata": {
    "id": "MVbFbJp03Vdj"
   },
   "outputs": [],
   "source": [
    "# Calculate money flow\n",
    "period = 14\n",
    "tsla['money_flow'] = tsla['typicalprice'] * tsla['Volume']"
   ]
  },
  {
   "cell_type": "code",
   "execution_count": 22,
   "metadata": {
    "id": "biu3hP383sUz"
   },
   "outputs": [],
   "source": [
    "# Get positive and negative money flows\n",
    "positive_flow = []\n",
    "negative_flow = []\n",
    "\n",
    "\n",
    "for i in range(1, len(tsla)):\n",
    "  if tsla['typicalprice'][i] > tsla['typicalprice'][i-1]:\n",
    "    positive_flow.append(tsla['money_flow'][i-1])\n",
    "    negative_flow.append(0)\n",
    "  elif tsla['typicalprice'][i] < tsla['typicalprice'][i-1]:\n",
    "    positive_flow.append(0)\n",
    "    negative_flow.append(tsla['money_flow'][i-1])\n",
    "  else:\n",
    "    positive_flow.append(0)\n",
    "    negative_flow.append(0)"
   ]
  },
  {
   "cell_type": "code",
   "execution_count": 23,
   "metadata": {
    "id": "aCMjJz7a8GpL"
   },
   "outputs": [],
   "source": [
    "# Get all of the positive and negative money flows within the time period\n",
    "positive_mf = []\n",
    "negative_mf = []\n",
    "\n",
    "for i in range(period-1, len(positive_flow)):\n",
    "  positive_mf.append(sum(positive_flow[i+1-period : i+1]))\n",
    "\n",
    "for i in range(period-1, len(negative_flow)):\n",
    "  negative_mf.append(sum(negative_flow[i+1-period : i+1]))"
   ]
  },
  {
   "cell_type": "code",
   "execution_count": 25,
   "metadata": {
    "id": "n1JQeP8U-Uk_"
   },
   "outputs": [],
   "source": [
    "# Calculate money flow index\n",
    "import numpy as np\n",
    "mfi = 100 * (np.array(positive_mf) / (np.array(positive_mf) + np.array(negative_mf)))"
   ]
  },
  {
   "cell_type": "code",
   "execution_count": null,
   "metadata": {
    "colab": {
     "base_uri": "https://localhost:8080/",
     "height": 554
    },
    "id": "nKOPMMqE_P_l",
    "outputId": "b1962873-a73d-403d-b619-ff400d35d45e"
   },
   "outputs": [
    {
     "data": {
      "text/plain": [
       "[<matplotlib.lines.Line2D at 0x7f96c4f40f60>]"
      ]
     },
     "execution_count": 53,
     "metadata": {
      "tags": []
     },
     "output_type": "execute_result"
    },
    {
     "data": {
      "image/png": "[encoded data removed]",
      "text/plain": [
       "<Figure size 864x648 with 1 Axes>"
      ]
     },
     "metadata": {
      "needs_background": "light",
      "tags": []
     },
     "output_type": "display_data"
    }
   ],
   "source": [
    "# Visually show MFI\n",
    "plt.figure(figsize=(12,9))\n",
    "plt.axhline(20, ls='--', color='green')\n",
    "plt.axhline(80, ls='--', color='red')\n",
    "plt.plot(mfi)"
   ]
  },
  {
   "cell_type": "code",
   "execution_count": 27,
   "metadata": {
    "colab": {
     "base_uri": "https://localhost:8080/",
     "height": 235
    },
    "id": "d1j6xKy_AcdA",
    "outputId": "fe508921-2f5b-46a6-d8ee-ec2e44333509"
   },
   "outputs": [
    {
     "data": {
      "text/html": [
       "<div>\n",
       "<style scoped>\n",
       "    .dataframe tbody tr th:only-of-type {\n",
       "        vertical-align: middle;\n",
       "    }\n",
       "\n",
       "    .dataframe tbody tr th {\n",
       "        vertical-align: top;\n",
       "    }\n",
       "\n",
       "    .dataframe thead th {\n",
       "        text-align: right;\n",
       "    }\n",
       "</style>\n",
       "<table border=\"1\" class=\"dataframe\">\n",
       "  <thead>\n",
       "    <tr style=\"text-align: right;\">\n",
       "      <th></th>\n",
       "      <th>High</th>\n",
       "      <th>Low</th>\n",
       "      <th>Open</th>\n",
       "      <th>Close</th>\n",
       "      <th>Volume</th>\n",
       "      <th>Adj Close</th>\n",
       "      <th>typicalprice</th>\n",
       "      <th>money_flow</th>\n",
       "      <th>MFI</th>\n",
       "    </tr>\n",
       "    <tr>\n",
       "      <th>Date</th>\n",
       "      <th></th>\n",
       "      <th></th>\n",
       "      <th></th>\n",
       "      <th></th>\n",
       "      <th></th>\n",
       "      <th></th>\n",
       "      <th></th>\n",
       "      <th></th>\n",
       "      <th></th>\n",
       "    </tr>\n",
       "  </thead>\n",
       "  <tbody>\n",
       "    <tr>\n",
       "      <th>2021-01-05</th>\n",
       "      <td>126.680000</td>\n",
       "      <td>124.610001</td>\n",
       "      <td>125.010002</td>\n",
       "      <td>126.139999</td>\n",
       "      <td>6114600.0</td>\n",
       "      <td>126.139999</td>\n",
       "      <td>125.810000</td>\n",
       "      <td>7.692778e+08</td>\n",
       "      <td>67.330046</td>\n",
       "    </tr>\n",
       "    <tr>\n",
       "      <th>2021-01-06</th>\n",
       "      <td>131.880005</td>\n",
       "      <td>126.720001</td>\n",
       "      <td>126.900002</td>\n",
       "      <td>129.289993</td>\n",
       "      <td>7956700.0</td>\n",
       "      <td>129.289993</td>\n",
       "      <td>129.296666</td>\n",
       "      <td>1.028775e+09</td>\n",
       "      <td>67.940157</td>\n",
       "    </tr>\n",
       "    <tr>\n",
       "      <th>2021-01-07</th>\n",
       "      <td>130.460007</td>\n",
       "      <td>128.259995</td>\n",
       "      <td>130.039993</td>\n",
       "      <td>128.990005</td>\n",
       "      <td>4507400.0</td>\n",
       "      <td>128.990005</td>\n",
       "      <td>129.236669</td>\n",
       "      <td>5.825214e+08</td>\n",
       "      <td>57.062640</td>\n",
       "    </tr>\n",
       "    <tr>\n",
       "      <th>2021-01-08</th>\n",
       "      <td>129.320007</td>\n",
       "      <td>126.980003</td>\n",
       "      <td>128.570007</td>\n",
       "      <td>128.529999</td>\n",
       "      <td>4676200.0</td>\n",
       "      <td>128.529999</td>\n",
       "      <td>128.276670</td>\n",
       "      <td>5.998474e+08</td>\n",
       "      <td>56.973137</td>\n",
       "    </tr>\n",
       "    <tr>\n",
       "      <th>2021-01-11</th>\n",
       "      <td>129.679993</td>\n",
       "      <td>127.660004</td>\n",
       "      <td>127.949997</td>\n",
       "      <td>128.580002</td>\n",
       "      <td>5601900.0</td>\n",
       "      <td>128.580002</td>\n",
       "      <td>128.639999</td>\n",
       "      <td>7.206284e+08</td>\n",
       "      <td>57.628223</td>\n",
       "    </tr>\n",
       "  </tbody>\n",
       "</table>\n",
       "</div>"
      ],
      "text/plain": [
       "                  High         Low        Open       Close     Volume  \\\n",
       "Date                                                                    \n",
       "2021-01-05  126.680000  124.610001  125.010002  126.139999  6114600.0   \n",
       "2021-01-06  131.880005  126.720001  126.900002  129.289993  7956700.0   \n",
       "2021-01-07  130.460007  128.259995  130.039993  128.990005  4507400.0   \n",
       "2021-01-08  129.320007  126.980003  128.570007  128.529999  4676200.0   \n",
       "2021-01-11  129.679993  127.660004  127.949997  128.580002  5601900.0   \n",
       "\n",
       "             Adj Close  typicalprice    money_flow        MFI  \n",
       "Date                                                           \n",
       "2021-01-05  126.139999    125.810000  7.692778e+08  67.330046  \n",
       "2021-01-06  129.289993    129.296666  1.028775e+09  67.940157  \n",
       "2021-01-07  128.990005    129.236669  5.825214e+08  57.062640  \n",
       "2021-01-08  128.529999    128.276670  5.998474e+08  56.973137  \n",
       "2021-01-11  128.580002    128.639999  7.206284e+08  57.628223  "
      ]
     },
     "execution_count": 27,
     "metadata": {},
     "output_type": "execute_result"
    }
   ],
   "source": [
    "new_tsla = tsla[period:]\n",
    "new_tsla['MFI'] = mfi\n",
    "new_tsla.tail()"
   ]
  },
  {
   "cell_type": "code",
   "execution_count": null,
   "metadata": {
    "id": "MSwYbymkC3LG"
   },
   "outputs": [],
   "source": [
    "def get_signals(data, low, high):\n",
    "  buy = []\n",
    "  sell = []\n",
    "  for i in range(len(data['MFI'])):\n",
    "    if data['MFI'][i] > high:\n",
    "      buy.append(np.nan)\n",
    "      sell.append(data['Close'][i])\n",
    "    elif data['MFI'][i] < low:\n",
    "      buy.append(data['Close'][i])\n",
    "      sell.append(np.nan)\n",
    "    else:\n",
    "      buy.append(np.nan)\n",
    "      sell.append(np.nan)\n",
    "  return (buy, sell)"
   ]
  },
  {
   "cell_type": "code",
   "execution_count": null,
   "metadata": {
    "id": "y14Q5du-Dr26"
   },
   "outputs": [],
   "source": [
    "# Getting points where to buy and sell\n",
    "buy, sell = get_signals(new_tsla, 20, 80)\n",
    "new_tsla['Buy'] = buy\n",
    "new_tsla['Sell'] = sell"
   ]
  },
  {
   "cell_type": "code",
   "execution_count": null,
   "metadata": {
    "colab": {
     "base_uri": "https://localhost:8080/",
     "height": 554
    },
    "id": "hVaIcj4XFgsM",
    "outputId": "2f51dfb5-5769-4885-91d3-e9dfdd5e0070"
   },
   "outputs": [
    {
     "data": {
      "text/plain": [
       "<matplotlib.collections.PathCollection at 0x7f96c488f748>"
      ]
     },
     "execution_count": 57,
     "metadata": {
      "tags": []
     },
     "output_type": "execute_result"
    },
    {
     "data": {
      "image/png": "[encoded data removed]",
      "text/plain": [
       "<Figure size 864x648 with 1 Axes>"
      ]
     },
     "metadata": {
      "needs_background": "light",
      "tags": []
     },
     "output_type": "display_data"
    }
   ],
   "source": [
    "plt.figure(figsize=(12,9))\n",
    "plt.plot(new_tsla['Close'])\n",
    "plt.scatter(new_tsla.index, new_tsla['Buy'], marker='^', color='green')\n",
    "plt.scatter(new_tsla.index, new_tsla['Sell'], marker='v', color='red')"
   ]
  },
  {
   "cell_type": "markdown",
   "metadata": {
    "id": "PxoQUq6bGJGr"
   },
   "source": [
    "Decent results with MFI, I can imagine it breaking down during a consistent one-directional trend (always decreasing or always increasing price).\n",
    "\n",
    "Further analysis: MFI strategy seems to be pretty good at finding good buy points, but tends to overdo it with the sell signals at times, and the sell signals aren't always optimal."
   ]
  },
  {
   "cell_type": "markdown",
   "metadata": {
    "id": "abZqKOqYNO5g"
   },
   "source": [
    "### Moving Average Convergence/Divergence (MACD) Strategy\n",
    "* MACD line crosses above signal line: Good time to buy\n",
    "* MACD line crosses below signal line: Good time to sell\n"
   ]
  },
  {
   "cell_type": "code",
   "execution_count": null,
   "metadata": {
    "id": "3T3tPunYPjAo"
   },
   "outputs": [],
   "source": [
    "twtr = web.DataReader('TWTR', \"yahoo\", start='2012-01-01', end='2014-07-01')\n"
   ]
  },
  {
   "cell_type": "code",
   "execution_count": null,
   "metadata": {
    "colab": {
     "base_uri": "https://localhost:8080/",
     "height": 235
    },
    "id": "Uid0iWT9ZlUj",
    "outputId": "fc0c14ef-cb51-40eb-f255-04feb3b5b947"
   },
   "outputs": [
    {
     "data": {
      "text/html": [
       "<div>\n",
       "<style scoped>\n",
       "    .dataframe tbody tr th:only-of-type {\n",
       "        vertical-align: middle;\n",
       "    }\n",
       "\n",
       "    .dataframe tbody tr th {\n",
       "        vertical-align: top;\n",
       "    }\n",
       "\n",
       "    .dataframe thead th {\n",
       "        text-align: right;\n",
       "    }\n",
       "</style>\n",
       "<table border=\"1\" class=\"dataframe\">\n",
       "  <thead>\n",
       "    <tr style=\"text-align: right;\">\n",
       "      <th></th>\n",
       "      <th>High</th>\n",
       "      <th>Low</th>\n",
       "      <th>Open</th>\n",
       "      <th>Close</th>\n",
       "      <th>Volume</th>\n",
       "      <th>Adj Close</th>\n",
       "    </tr>\n",
       "    <tr>\n",
       "      <th>Date</th>\n",
       "      <th></th>\n",
       "      <th></th>\n",
       "      <th></th>\n",
       "      <th></th>\n",
       "      <th></th>\n",
       "      <th></th>\n",
       "    </tr>\n",
       "  </thead>\n",
       "  <tbody>\n",
       "    <tr>\n",
       "      <th>2013-11-07</th>\n",
       "      <td>50.090000</td>\n",
       "      <td>44.000000</td>\n",
       "      <td>45.099998</td>\n",
       "      <td>44.900002</td>\n",
       "      <td>117701600</td>\n",
       "      <td>44.900002</td>\n",
       "    </tr>\n",
       "    <tr>\n",
       "      <th>2013-11-08</th>\n",
       "      <td>46.939999</td>\n",
       "      <td>40.689999</td>\n",
       "      <td>45.930000</td>\n",
       "      <td>41.650002</td>\n",
       "      <td>27925300</td>\n",
       "      <td>41.650002</td>\n",
       "    </tr>\n",
       "    <tr>\n",
       "      <th>2013-11-11</th>\n",
       "      <td>43.000000</td>\n",
       "      <td>39.400002</td>\n",
       "      <td>40.500000</td>\n",
       "      <td>42.900002</td>\n",
       "      <td>16113900</td>\n",
       "      <td>42.900002</td>\n",
       "    </tr>\n",
       "    <tr>\n",
       "      <th>2013-11-12</th>\n",
       "      <td>43.779999</td>\n",
       "      <td>41.830002</td>\n",
       "      <td>43.660000</td>\n",
       "      <td>41.900002</td>\n",
       "      <td>6316700</td>\n",
       "      <td>41.900002</td>\n",
       "    </tr>\n",
       "    <tr>\n",
       "      <th>2013-11-13</th>\n",
       "      <td>42.869999</td>\n",
       "      <td>40.759998</td>\n",
       "      <td>41.029999</td>\n",
       "      <td>42.599998</td>\n",
       "      <td>8688300</td>\n",
       "      <td>42.599998</td>\n",
       "    </tr>\n",
       "  </tbody>\n",
       "</table>\n",
       "</div>"
      ],
      "text/plain": [
       "                 High        Low       Open      Close     Volume  Adj Close\n",
       "Date                                                                        \n",
       "2013-11-07  50.090000  44.000000  45.099998  44.900002  117701600  44.900002\n",
       "2013-11-08  46.939999  40.689999  45.930000  41.650002   27925300  41.650002\n",
       "2013-11-11  43.000000  39.400002  40.500000  42.900002   16113900  42.900002\n",
       "2013-11-12  43.779999  41.830002  43.660000  41.900002    6316700  41.900002\n",
       "2013-11-13  42.869999  40.759998  41.029999  42.599998    8688300  42.599998"
      ]
     },
     "execution_count": 59,
     "metadata": {
      "tags": []
     },
     "output_type": "execute_result"
    }
   ],
   "source": [
    "twtr.head()"
   ]
  },
  {
   "cell_type": "code",
   "execution_count": null,
   "metadata": {
    "colab": {
     "base_uri": "https://localhost:8080/",
     "height": 282
    },
    "id": "pTyWOAL8ROYC",
    "outputId": "514747d3-46b1-445f-b17a-091de05f34fd"
   },
   "outputs": [
    {
     "data": {
      "text/plain": [
       "[<matplotlib.lines.Line2D at 0x7f96c6a10518>]"
      ]
     },
     "execution_count": 60,
     "metadata": {
      "tags": []
     },
     "output_type": "execute_result"
    },
    {
     "data": {
      "image/png": "[encoded data removed]",
      "text/plain": [
       "<Figure size 432x288 with 1 Axes>"
      ]
     },
     "metadata": {
      "needs_background": "light",
      "tags": []
     },
     "output_type": "display_data"
    }
   ],
   "source": [
    "plt.plot(twtr['Adj Close'])"
   ]
  },
  {
   "cell_type": "code",
   "execution_count": null,
   "metadata": {
    "id": "HwLrgNwdRwn2"
   },
   "outputs": [],
   "source": [
    "# Make 12-period and 26-period EMA's\n",
    "twtr['EMA12'] = twtr['Adj Close'].ewm(span=12, adjust=False).mean()\n",
    "twtr['EMA26'] = twtr['Adj Close'].ewm(span=26, adjust=False).mean()"
   ]
  },
  {
   "cell_type": "code",
   "execution_count": null,
   "metadata": {
    "colab": {
     "base_uri": "https://localhost:8080/",
     "height": 554
    },
    "id": "NH3uf_QESrKQ",
    "outputId": "1f030c19-0055-4d01-e73f-0aa3edf34e29"
   },
   "outputs": [
    {
     "data": {
      "text/plain": [
       "<matplotlib.legend.Legend at 0x7f96c69ee7b8>"
      ]
     },
     "execution_count": 62,
     "metadata": {
      "tags": []
     },
     "output_type": "execute_result"
    },
    {
     "data": {
      "image/png": "[encoded data removed]",
      "text/plain": [
       "<Figure size 864x648 with 1 Axes>"
      ]
     },
     "metadata": {
      "needs_background": "light",
      "tags": []
     },
     "output_type": "display_data"
    }
   ],
   "source": [
    "# Plot EMA's compared to stock price \n",
    "plt.figure(figsize=(12,9))\n",
    "plt.plot(twtr['Adj Close'], label='Close Price')\n",
    "plt.plot(twtr['EMA12'], label='12 Period EMA', color='magenta')\n",
    "plt.plot(twtr['EMA26'], label='26 Period EMA', color='black')\n",
    "plt.legend(loc='upper left')"
   ]
  },
  {
   "cell_type": "code",
   "execution_count": null,
   "metadata": {
    "id": "fJ3V-3ASUUTg"
   },
   "outputs": [],
   "source": [
    "# Generating MACD\n",
    "twtr['MACD'] = twtr['EMA12']-twtr['EMA26']"
   ]
  },
  {
   "cell_type": "code",
   "execution_count": null,
   "metadata": {
    "id": "H9Qa6MtUVOTc"
   },
   "outputs": [],
   "source": [
    "# Generating MACD signal line\n",
    "twtr['MACD Signal'] = twtr['MACD'].ewm(span=9, adjust=False).mean()"
   ]
  },
  {
   "cell_type": "code",
   "execution_count": null,
   "metadata": {
    "colab": {
     "base_uri": "https://localhost:8080/",
     "height": 554
    },
    "id": "B-V1D-NkVq-k",
    "outputId": "c3b411d0-8164-480b-ae13-159f26f58740"
   },
   "outputs": [
    {
     "data": {
      "text/plain": [
       "<matplotlib.legend.Legend at 0x7f96c500a240>"
      ]
     },
     "execution_count": 65,
     "metadata": {
      "tags": []
     },
     "output_type": "execute_result"
    },
    {
     "data": {
      "image/png": "[encoded data removed]",
      "text/plain": [
       "<Figure size 864x648 with 1 Axes>"
      ]
     },
     "metadata": {
      "needs_background": "light",
      "tags": []
     },
     "output_type": "display_data"
    }
   ],
   "source": [
    "# Plotting MACD vs. MACD Singal Line\n",
    "plt.figure(figsize=(12,9))\n",
    "plt.plot(twtr['MACD'], label='MACD', color='blue')\n",
    "plt.plot(twtr['MACD Signal'], label='MACD Signal Line', color='red')\n",
    "plt.axhline(0, color='black')\n",
    "plt.legend(loc='upper left')"
   ]
  },
  {
   "cell_type": "code",
   "execution_count": null,
   "metadata": {
    "id": "x99k5CcCXSZE"
   },
   "outputs": [],
   "source": [
    "# Writing functions to get MACD signal\n",
    "def get_macd_signals(data):\n",
    "  bought = False\n",
    "  buy = []\n",
    "  sell = []\n",
    "  for i in range(len(data)):\n",
    "    if data['MACD'][i] > data['MACD Signal'][i] and not bought:\n",
    "      bought = True\n",
    "      buy.append(data['Adj Close'][i])\n",
    "      sell.append(np.nan)\n",
    "    elif data['MACD'][i] < data['MACD Signal'][i] and bought:\n",
    "      bought = False\n",
    "      buy.append(np.nan)\n",
    "      sell.append(data['Adj Close'][i])\n",
    "    else:\n",
    "      buy.append(np.nan)\n",
    "      sell.append(np.nan)\n",
    "  return (buy, sell)"
   ]
  },
  {
   "cell_type": "code",
   "execution_count": null,
   "metadata": {
    "id": "pHEcrHU7Zfoq"
   },
   "outputs": [],
   "source": [
    "# Getting buy and sell signals for the stock data\n",
    "buy, sell = get_macd_signals(twtr)\n",
    "twtr['Buy'] = buy\n",
    "twtr['Sell'] = sell"
   ]
  },
  {
   "cell_type": "code",
   "execution_count": null,
   "metadata": {
    "colab": {
     "base_uri": "https://localhost:8080/",
     "height": 554
    },
    "id": "73m4Zu3EaUvw",
    "outputId": "84c2a82e-124a-40f0-ed60-d6a1423339d0"
   },
   "outputs": [
    {
     "data": {
      "text/plain": [
       "<matplotlib.collections.PathCollection at 0x7f96c6a88898>"
      ]
     },
     "execution_count": 68,
     "metadata": {
      "tags": []
     },
     "output_type": "execute_result"
    },
    {
     "data": {
      "image/png": "[encoded data removed]",
      "text/plain": [
       "<Figure size 864x648 with 1 Axes>"
      ]
     },
     "metadata": {
      "needs_background": "light",
      "tags": []
     },
     "output_type": "display_data"
    }
   ],
   "source": [
    "# Plotting buy and sell signals compared to cost\n",
    "plt.figure(figsize=(12,9))\n",
    "plt.plot(twtr['Adj Close'])\n",
    "plt.scatter(twtr.index, twtr['Buy'], marker='^', color='green')\n",
    "plt.scatter(twtr.index, twtr['Sell'], marker='v', color='red')"
   ]
  },
  {
   "cell_type": "markdown",
   "metadata": {
    "id": "KW9xXJHJarG8"
   },
   "source": [
    "MACD Provides a somewhat decent trading strategy - perhaps I can improve this in some ways, such as simultaneous holdings (don't have to sell before buying again) or changing the thresholds for the moving average from 12 and 26 to different numbers (smaller for more precision - ?). Also, the strategy overall is not very good at dealing with situations when there is a rapid decline (or growth, for that matter) in price (high volatility). Another idea: Try using it on ETF's or another security with lower risk"
   ]
  },
  {
   "cell_type": "markdown",
   "metadata": {
    "id": "XgoyJTH_LfmW"
   },
   "source": [
    "### On-Balance Volume (OBV) Strategy\n",
    "\n",
    "OBV indicator is a technical momentum indicator that uses volume flow to predict changes in stock price.\n",
    "\n",
    "* Buy whenever OBV crosses above 20-period EMA of OBV\n",
    "* Sell whenever OBV crosses below 20-period EMA of OBV"
   ]
  },
  {
   "cell_type": "code",
   "execution_count": null,
   "metadata": {
    "id": "_zRQ5MCPLmt0"
   },
   "outputs": [],
   "source": [
    "amzn = web.DataReader(\"AMZN\", \"yahoo\", start=\"2020-03-16\", end=\"2020-09-21\")"
   ]
  },
  {
   "cell_type": "code",
   "execution_count": null,
   "metadata": {
    "id": "SBeiURyGYlR1"
   },
   "outputs": [],
   "source": [
    "# Look into using Alpha Vantage data "
   ]
  },
  {
   "cell_type": "code",
   "execution_count": null,
   "metadata": {
    "colab": {
     "base_uri": "https://localhost:8080/",
     "height": 282
    },
    "id": "_DWBNWirYEnG",
    "outputId": "87acbceb-8bb3-41e4-c1c6-b880ba112613"
   },
   "outputs": [
    {
     "data": {
      "text/plain": [
       "[<matplotlib.lines.Line2D at 0x7f96b2b236d8>]"
      ]
     },
     "execution_count": 85,
     "metadata": {
      "tags": []
     },
     "output_type": "execute_result"
    },
    {
     "data": {
      "image/png": "[encoded data removed]",
      "text/plain": [
       "<Figure size 432x288 with 1 Axes>"
      ]
     },
     "metadata": {
      "needs_background": "light",
      "tags": []
     },
     "output_type": "display_data"
    }
   ],
   "source": [
    "plt.plot(amzn['Adj Close'])"
   ]
  },
  {
   "cell_type": "code",
   "execution_count": null,
   "metadata": {
    "id": "w6e4xwpAMf5U"
   },
   "outputs": [],
   "source": [
    "# Calculate the OBV\n",
    "amzn['OBV'] = np.zeros(len(amzn))\n",
    "for i in range(1, len(amzn)):\n",
    "  if amzn['Adj Close'][i] > amzn['Adj Close'][i-1]:\n",
    "    amzn['OBV'][i] = amzn['OBV'][i-1] + amzn['Volume'][i]\n",
    "  elif amzn['Adj Close'][i] < amzn['Adj Close'][i-1]:\n",
    "    amzn['OBV'][i] = amzn['OBV'][i-1] - amzn['Volume'][i]\n",
    "  else:\n",
    "    amzn['OBV'][i] = amzn['OBV'][i-1]"
   ]
  },
  {
   "cell_type": "code",
   "execution_count": null,
   "metadata": {
    "id": "EJdwdicKO-4F"
   },
   "outputs": [],
   "source": [
    "# Making an EMA of the OBV\n",
    "amzn['OBV_EMA']  = amzn['OBV'].ewm(span=20).mean()"
   ]
  },
  {
   "cell_type": "code",
   "execution_count": null,
   "metadata": {
    "colab": {
     "base_uri": "https://localhost:8080/",
     "height": 293
    },
    "id": "THjLI1MGXzOo",
    "outputId": "7ea9846c-20d6-4484-8905-1224e4f065ba"
   },
   "outputs": [
    {
     "data": {
      "text/plain": [
       "<matplotlib.legend.Legend at 0x7f96b29c3ba8>"
      ]
     },
     "execution_count": 95,
     "metadata": {
      "tags": []
     },
     "output_type": "execute_result"
    },
    {
     "data": {
      "image/png": "[encoded data removed]",
      "text/plain": [
       "<Figure size 432x288 with 1 Axes>"
      ]
     },
     "metadata": {
      "needs_background": "light",
      "tags": []
     },
     "output_type": "display_data"
    }
   ],
   "source": [
    "plt.plot(amzn.OBV, label='OBV')\n",
    "plt.plot(amzn.OBV_EMA, label='20 period EMA of OBV')\n",
    "plt.legend()"
   ]
  },
  {
   "cell_type": "code",
   "execution_count": null,
   "metadata": {
    "id": "tff0uRrgcwXG"
   },
   "outputs": [],
   "source": [
    "def gen_obv_signals(data):\n",
    "  bought = False\n",
    "  buy = []\n",
    "  sell = []\n",
    "  for i in range(len(data)):\n",
    "    if data['OBV'][i] > data['OBV_EMA'][i] and not bought:\n",
    "      bought = True\n",
    "      buy.append(data['Adj Close'][i])\n",
    "      sell.append(np.nan)\n",
    "    elif data['OBV'][i] < data['OBV_EMA'][i] and bought:\n",
    "      bought = False\n",
    "      buy.append(np.nan)\n",
    "      sell.append(data['Adj Close'][i])\n",
    "      \n",
    "    else:\n",
    "      buy.append(np.nan)\n",
    "      sell.append(np.nan)\n",
    "\n",
    "  return (buy, sell)"
   ]
  },
  {
   "cell_type": "code",
   "execution_count": null,
   "metadata": {
    "id": "NiIEpcgnfOsQ"
   },
   "outputs": [],
   "source": [
    "# Generating signals of when to buy and sell\n",
    "buy, sell = gen_obv_signals(amzn)\n",
    "amzn['Buy'] = buy\n",
    "amzn['Sell'] = sell"
   ]
  },
  {
   "cell_type": "code",
   "execution_count": null,
   "metadata": {
    "colab": {
     "base_uri": "https://localhost:8080/",
     "height": 554
    },
    "id": "JNphhImRfiX9",
    "outputId": "ff81bfe5-7bdc-48d7-ed2e-25b4da08b861"
   },
   "outputs": [
    {
     "data": {
      "text/plain": [
       "<matplotlib.collections.PathCollection at 0x7f96b29aaf98>"
      ]
     },
     "execution_count": 94,
     "metadata": {
      "tags": []
     },
     "output_type": "execute_result"
    },
    {
     "data": {
      "image/png": "[encoded data removed]",
      "text/plain": [
       "<Figure size 864x648 with 1 Axes>"
      ]
     },
     "metadata": {
      "needs_background": "light",
      "tags": []
     },
     "output_type": "display_data"
    }
   ],
   "source": [
    "# Plotting when to buy and sell to see strategy performance\n",
    "plt.figure(figsize=(12,9))\n",
    "plt.plot(amzn['Adj Close'])\n",
    "plt.scatter(amzn.index, amzn['Buy'], marker='^', color='green')\n",
    "plt.scatter(amzn.index, amzn['Sell'], marker='v', color='red')"
   ]
  },
  {
   "cell_type": "markdown",
   "metadata": {
    "id": "C0ZIJPGSf0Kl"
   },
   "source": [
    "I like the performance of this strategy, especially for short-term (few month) periods. I'll need to do some more testing with it, but for now I like the returns and its (decently good) decisions."
   ]
  },
  {
   "cell_type": "markdown",
   "metadata": {
    "id": "CpUeT1ueCKw5"
   },
   "source": [
    "## **Machine Learning Trading Strategies**\n",
    "\n",
    "\n",
    "---\n",
    "\n",
    "\n",
    "\n"
   ]
  },
  {
   "cell_type": "markdown",
   "metadata": {
    "id": "twkyqKEUPV9I"
   },
   "source": [
    "### LSTM to Predict Stock Prices\n",
    "\n"
   ]
  },
  {
   "cell_type": "code",
   "execution_count": null,
   "metadata": {
    "colab": {
     "base_uri": "https://localhost:8080/",
     "height": 450
    },
    "id": "tcG-h6LNPV9I",
    "outputId": "08b39297-213b-4f55-874d-2573c6c842d6"
   },
   "outputs": [
    {
     "data": {
      "text/html": [
       "<div>\n",
       "<style scoped>\n",
       "    .dataframe tbody tr th:only-of-type {\n",
       "        vertical-align: middle;\n",
       "    }\n",
       "\n",
       "    .dataframe tbody tr th {\n",
       "        vertical-align: top;\n",
       "    }\n",
       "\n",
       "    .dataframe thead th {\n",
       "        text-align: right;\n",
       "    }\n",
       "</style>\n",
       "<table border=\"1\" class=\"dataframe\">\n",
       "  <thead>\n",
       "    <tr style=\"text-align: right;\">\n",
       "      <th></th>\n",
       "      <th>High</th>\n",
       "      <th>Low</th>\n",
       "      <th>Open</th>\n",
       "      <th>Close</th>\n",
       "      <th>Volume</th>\n",
       "      <th>Adj Close</th>\n",
       "    </tr>\n",
       "    <tr>\n",
       "      <th>Date</th>\n",
       "      <th></th>\n",
       "      <th></th>\n",
       "      <th></th>\n",
       "      <th></th>\n",
       "      <th></th>\n",
       "      <th></th>\n",
       "    </tr>\n",
       "  </thead>\n",
       "  <tbody>\n",
       "    <tr>\n",
       "      <th>2012-01-03</th>\n",
       "      <td>85.080002</td>\n",
       "      <td>84.160004</td>\n",
       "      <td>84.279999</td>\n",
       "      <td>84.599998</td>\n",
       "      <td>2339500.0</td>\n",
       "      <td>65.063423</td>\n",
       "    </tr>\n",
       "    <tr>\n",
       "      <th>2012-01-04</th>\n",
       "      <td>84.949997</td>\n",
       "      <td>84.010002</td>\n",
       "      <td>84.669998</td>\n",
       "      <td>84.070000</td>\n",
       "      <td>2260200.0</td>\n",
       "      <td>64.655830</td>\n",
       "    </tr>\n",
       "    <tr>\n",
       "      <th>2012-01-05</th>\n",
       "      <td>83.639999</td>\n",
       "      <td>82.099998</td>\n",
       "      <td>83.570000</td>\n",
       "      <td>83.260002</td>\n",
       "      <td>3590500.0</td>\n",
       "      <td>64.032875</td>\n",
       "    </tr>\n",
       "    <tr>\n",
       "      <th>2012-01-06</th>\n",
       "      <td>83.169998</td>\n",
       "      <td>81.120003</td>\n",
       "      <td>83.169998</td>\n",
       "      <td>81.129997</td>\n",
       "      <td>3397400.0</td>\n",
       "      <td>62.394749</td>\n",
       "    </tr>\n",
       "    <tr>\n",
       "      <th>2012-01-09</th>\n",
       "      <td>81.000000</td>\n",
       "      <td>78.809998</td>\n",
       "      <td>80.339996</td>\n",
       "      <td>79.010002</td>\n",
       "      <td>4798300.0</td>\n",
       "      <td>60.764320</td>\n",
       "    </tr>\n",
       "    <tr>\n",
       "      <th>...</th>\n",
       "      <td>...</td>\n",
       "      <td>...</td>\n",
       "      <td>...</td>\n",
       "      <td>...</td>\n",
       "      <td>...</td>\n",
       "      <td>...</td>\n",
       "    </tr>\n",
       "    <tr>\n",
       "      <th>2020-12-24</th>\n",
       "      <td>365.339996</td>\n",
       "      <td>361.410004</td>\n",
       "      <td>361.410004</td>\n",
       "      <td>364.579987</td>\n",
       "      <td>972500.0</td>\n",
       "      <td>364.579987</td>\n",
       "    </tr>\n",
       "    <tr>\n",
       "      <th>2020-12-28</th>\n",
       "      <td>371.690002</td>\n",
       "      <td>365.079987</td>\n",
       "      <td>365.500000</td>\n",
       "      <td>371.059998</td>\n",
       "      <td>3207700.0</td>\n",
       "      <td>371.059998</td>\n",
       "    </tr>\n",
       "    <tr>\n",
       "      <th>2020-12-29</th>\n",
       "      <td>373.260010</td>\n",
       "      <td>370.260010</td>\n",
       "      <td>372.250000</td>\n",
       "      <td>372.720001</td>\n",
       "      <td>2072600.0</td>\n",
       "      <td>372.720001</td>\n",
       "    </tr>\n",
       "    <tr>\n",
       "      <th>2020-12-30</th>\n",
       "      <td>375.859985</td>\n",
       "      <td>373.279999</td>\n",
       "      <td>374.200012</td>\n",
       "      <td>374.450012</td>\n",
       "      <td>1778000.0</td>\n",
       "      <td>374.450012</td>\n",
       "    </tr>\n",
       "    <tr>\n",
       "      <th>2020-12-31</th>\n",
       "      <td>377.040009</td>\n",
       "      <td>372.459991</td>\n",
       "      <td>374.989990</td>\n",
       "      <td>376.779999</td>\n",
       "      <td>1627500.0</td>\n",
       "      <td>376.779999</td>\n",
       "    </tr>\n",
       "  </tbody>\n",
       "</table>\n",
       "<p>2265 rows × 6 columns</p>\n",
       "</div>"
      ],
      "text/plain": [
       "                  High         Low  ...     Volume   Adj Close\n",
       "Date                                ...                       \n",
       "2012-01-03   85.080002   84.160004  ...  2339500.0   65.063423\n",
       "2012-01-04   84.949997   84.010002  ...  2260200.0   64.655830\n",
       "2012-01-05   83.639999   82.099998  ...  3590500.0   64.032875\n",
       "2012-01-06   83.169998   81.120003  ...  3397400.0   62.394749\n",
       "2012-01-09   81.000000   78.809998  ...  4798300.0   60.764320\n",
       "...                ...         ...  ...        ...         ...\n",
       "2020-12-24  365.339996  361.410004  ...   972500.0  364.579987\n",
       "2020-12-28  371.690002  365.079987  ...  3207700.0  371.059998\n",
       "2020-12-29  373.260010  370.260010  ...  2072600.0  372.720001\n",
       "2020-12-30  375.859985  373.279999  ...  1778000.0  374.450012\n",
       "2020-12-31  377.040009  372.459991  ...  1627500.0  376.779999\n",
       "\n",
       "[2265 rows x 6 columns]"
      ]
     },
     "execution_count": 129,
     "metadata": {
      "tags": []
     },
     "output_type": "execute_result"
    }
   ],
   "source": [
    "from sklearn.preprocessing import MinMaxScaler\n",
    "from sklearn.metrics import mean_squared_error\n",
    "from keras.models import Sequential\n",
    "from keras.layers import Dense, LSTM\n",
    "\n",
    "baba = web.DataReader('COST', \"yahoo\", start='2012-01-01', end='2021-01-01')\n",
    "baba"
   ]
  },
  {
   "cell_type": "code",
   "execution_count": null,
   "metadata": {
    "colab": {
     "base_uri": "https://localhost:8080/",
     "height": 284
    },
    "id": "w-2zYq8zQrmu",
    "outputId": "47edf65c-33d6-4622-80eb-86a40ae29cc4"
   },
   "outputs": [
    {
     "data": {
      "text/plain": [
       "[<matplotlib.lines.Line2D at 0x7f2842d6a908>]"
      ]
     },
     "execution_count": 130,
     "metadata": {
      "tags": []
     },
     "output_type": "execute_result"
    },
    {
     "data": {
      "image/png": "[encoded data removed]",
      "text/plain": [
       "<Figure size 432x288 with 1 Axes>"
      ]
     },
     "metadata": {
      "needs_background": "light",
      "tags": []
     },
     "output_type": "display_data"
    }
   ],
   "source": [
    "# Plotting Alibaba Stock Close Price over time\n",
    "plt.plot(baba['Adj Close'])"
   ]
  },
  {
   "cell_type": "code",
   "execution_count": null,
   "metadata": {
    "id": "Sj01cONURLdy"
   },
   "outputs": [],
   "source": [
    "# Getting the data for our model (just the adjusted close price vakyes)\n",
    "data = baba.filter(['Adj Close']).values"
   ]
  },
  {
   "cell_type": "code",
   "execution_count": null,
   "metadata": {
    "colab": {
     "base_uri": "https://localhost:8080/"
    },
    "id": "iibYB6FcTGaW",
    "outputId": "551e4e44-7da0-4adf-872e-f0378d9a1e13"
   },
   "outputs": [
    {
     "data": {
      "text/plain": [
       "array([[0.01315532],\n",
       "       [0.01190808],\n",
       "       [0.01000183],\n",
       "       ...,\n",
       "       [0.95458937],\n",
       "       [0.95988324],\n",
       "       [0.96701303]])"
      ]
     },
     "execution_count": 132,
     "metadata": {
      "tags": []
     },
     "output_type": "execute_result"
    }
   ],
   "source": [
    "# Scaling our data to be between 0 and 1 (normalizing)\n",
    "scaler = MinMaxScaler(feature_range=(0,1))\n",
    "scaled_data = scaler.fit_transform(data)\n",
    "scaled_data"
   ]
  },
  {
   "cell_type": "code",
   "execution_count": null,
   "metadata": {
    "id": "LxApXLloSS0r"
   },
   "outputs": [],
   "source": [
    "# Splitting data into training sets\n",
    "trainsplit = round(len(scaled_data)*0.8) # 80% of our data will be used for training\n",
    "\n",
    "total_traindata = scaled_data[:trainsplit]\n",
    "\n",
    "x_train = []\n",
    "y_train = []\n",
    "\n",
    "for i in range(120, len(total_traindata)):\n",
    "  x_train.append(total_traindata[i-120:i])\n",
    "  y_train.append(total_traindata[i])\n",
    "\n"
   ]
  },
  {
   "cell_type": "code",
   "execution_count": null,
   "metadata": {
    "id": "wBaNNrsKT8op"
   },
   "outputs": [],
   "source": [
    "# Converting to numpy arrays and reshaping to allow training\n",
    "# (LSTM expects 3D data - samples, timesteps, features)\n",
    "x_train, y_train = np.array(x_train), np.array(y_train)"
   ]
  },
  {
   "cell_type": "code",
   "execution_count": null,
   "metadata": {
    "id": "bjFHfcygXVSv"
   },
   "outputs": [],
   "source": [
    "x_train = np.reshape(x_train, (x_train.shape[0], x_train.shape[1], 1)) # One feature"
   ]
  },
  {
   "cell_type": "code",
   "execution_count": null,
   "metadata": {
    "id": "7gKVu4eEtEXB"
   },
   "outputs": [],
   "source": [
    "# Building LSTM model\n",
    "model = Sequential()\n",
    "\n",
    "model.add(LSTM(60, return_sequences=True, input_shape = (x_train.shape[1], 1)))\n",
    "model.add(LSTM(60))\n",
    "model.add(Dense(30))\n",
    "model.add(Dense(1))"
   ]
  },
  {
   "cell_type": "code",
   "execution_count": null,
   "metadata": {
    "id": "E6ruZwqguamy"
   },
   "outputs": [],
   "source": [
    "# Compile LSTM model\n",
    "model.compile(optimizer='adam', loss='mean_squared_error')"
   ]
  },
  {
   "cell_type": "code",
   "execution_count": null,
   "metadata": {
    "colab": {
     "base_uri": "https://localhost:8080/"
    },
    "id": "6iQrOilUvJom",
    "outputId": "1722f954-48cb-4fd8-b7bd-906fc4c3ed07"
   },
   "outputs": [
    {
     "name": "stdout",
     "output_type": "stream",
     "text": [
      "Epoch 1/5\n",
      "68/68 [==============================] - 10s 102ms/step - loss: 0.0150\n",
      "Epoch 2/5\n",
      "68/68 [==============================] - 7s 102ms/step - loss: 1.5159e-04\n",
      "Epoch 3/5\n",
      "68/68 [==============================] - 7s 104ms/step - loss: 1.4247e-04\n",
      "Epoch 4/5\n",
      "68/68 [==============================] - 7s 105ms/step - loss: 1.3894e-04\n",
      "Epoch 5/5\n",
      "68/68 [==============================] - 7s 104ms/step - loss: 1.3179e-04\n"
     ]
    },
    {
     "data": {
      "text/plain": [
       "<tensorflow.python.keras.callbacks.History at 0x7f2845606eb8>"
      ]
     },
     "execution_count": 138,
     "metadata": {
      "tags": []
     },
     "output_type": "execute_result"
    }
   ],
   "source": [
    "# Train model\n",
    "model.fit(x_train, y_train, batch_size=25, epochs=5)"
   ]
  },
  {
   "cell_type": "code",
   "execution_count": null,
   "metadata": {
    "id": "3VVgLcXVvifx"
   },
   "outputs": [],
   "source": [
    "# Building testing sets\n",
    "\n",
    "total_testdata = scaled_data[trainsplit-120:]\n",
    "\n",
    "x_test = []\n",
    "y_test = data[trainsplit:]\n",
    "\n",
    "for i in range(120, len(total_testdata)):\n",
    "  x_test.append(total_testdata[i-120:i])"
   ]
  },
  {
   "cell_type": "code",
   "execution_count": null,
   "metadata": {
    "id": "bFisrJXNyJZz"
   },
   "outputs": [],
   "source": [
    "# Reshaping\n",
    "x_test = np.array(x_test)\n",
    "x_test=np.reshape(x_test, (x_test.shape[0], x_test.shape[1], 1))"
   ]
  },
  {
   "cell_type": "code",
   "execution_count": null,
   "metadata": {
    "id": "M4bnUQgoyKqP"
   },
   "outputs": [],
   "source": [
    "# Making predictions on test data with model\n",
    "predictions = model.predict(x_test)\n",
    "predictions = scaler.inverse_transform(predictions) # Unscaling values"
   ]
  },
  {
   "cell_type": "code",
   "execution_count": null,
   "metadata": {
    "colab": {
     "base_uri": "https://localhost:8080/"
    },
    "id": "BxmQjTda0hiP",
    "outputId": "2363b771-1d01-449d-ab08-9505dc313de9"
   },
   "outputs": [
    {
     "data": {
      "text/plain": [
       "7.43589007454176"
      ]
     },
     "execution_count": 142,
     "metadata": {
      "tags": []
     },
     "output_type": "execute_result"
    }
   ],
   "source": [
    "# Get root mean squared error to determine accuracy of model\n",
    "mean_squared_error(y_test, predictions, squared=False)"
   ]
  },
  {
   "cell_type": "markdown",
   "metadata": {
    "id": "lUwY6ZbO1x2x"
   },
   "source": [
    "Pretty decently low root mean squared error"
   ]
  },
  {
   "cell_type": "code",
   "execution_count": null,
   "metadata": {
    "colab": {
     "base_uri": "https://localhost:8080/",
     "height": 554
    },
    "id": "ElgdrsbW18AP",
    "outputId": "2ced5499-83a0-416b-a349-3855fa7d01fa"
   },
   "outputs": [
    {
     "data": {
      "text/plain": [
       "<matplotlib.legend.Legend at 0x7f283f9cff98>"
      ]
     },
     "execution_count": 143,
     "metadata": {
      "tags": []
     },
     "output_type": "execute_result"
    },
    {
     "data": {
      "image/png": "[encoded data removed]",
      "text/plain": [
       "<Figure size 864x648 with 1 Axes>"
      ]
     },
     "metadata": {
      "needs_background": "light",
      "tags": []
     },
     "output_type": "display_data"
    }
   ],
   "source": [
    "# Plotting our predictions vs. actual data to visualize how good we performed\n",
    "\n",
    "train = data[:trainsplit]\n",
    "valid = data[trainsplit:]\n",
    "plt.figure(figsize=(12,9))\n",
    "plt.plot(range(train.shape[0]), train, label='previous/training data')\n",
    "plt.plot(range(train.shape[0], train.shape[0]+valid.shape[0]) ,valid, label='actual')\n",
    "plt.plot(range(train.shape[0], train.shape[0]+valid.shape[0]) ,predictions, label='predictions')\n",
    "plt.legend()"
   ]
  },
  {
   "cell_type": "code",
   "execution_count": null,
   "metadata": {
    "id": "4HjQw8m8AbC_"
   },
   "outputs": [],
   "source": []
  }
 ],
 "metadata": {
  "colab": {
   "collapsed_sections": [],
   "name": "quantproj.ipynb",
   "provenance": [],
   "toc_visible": true
  },
  "kernelspec": {
   "display_name": "Python 3",
   "language": "python",
   "name": "python3"
  },
  "language_info": {
   "codemirror_mode": {
    "name": "ipython",
    "version": 3
   },
   "file_extension": ".py",
   "mimetype": "text/x-python",
   "name": "python",
   "nbconvert_exporter": "python",
   "pygments_lexer": "ipython3",
   "version": "3.8.5"
  }
 },
 "nbformat": 4,
 "nbformat_minor": 1
}
