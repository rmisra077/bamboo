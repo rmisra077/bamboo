{
 "cells": [
  {
   "cell_type": "code",
   "execution_count": 1,
   "metadata": {},
   "outputs": [],
   "source": [
    "import livetrading\n",
    "import utility\n",
    "import algorithms.mfi as mfi\n",
    "import algorithms.macd as macd\n",
    "from account import Account\n",
    "import json\n",
    "import database"
   ]
  },
  {
   "cell_type": "code",
   "execution_count": 2,
   "metadata": {},
   "outputs": [],
   "source": [
    "acc = Account(\"richa\", \"pwd\")"
   ]
  },
  {
   "cell_type": "code",
   "execution_count": 3,
   "metadata": {},
   "outputs": [
    {
     "data": {
      "text/plain": [
       "[]"
      ]
     },
     "execution_count": 3,
     "metadata": {},
     "output_type": "execute_result"
    }
   ],
   "source": [
    "acc.get_portfolios()"
   ]
  },
  {
   "cell_type": "code",
   "execution_count": 5,
   "metadata": {},
   "outputs": [],
   "source": [
    "acc.add_portfolio(mfi.MFI())\n",
    "testport = acc.get_portfolios()[0]"
   ]
  },
  {
   "cell_type": "code",
   "execution_count": 6,
   "metadata": {},
   "outputs": [
    {
     "data": {
      "text/plain": [
       "[]"
      ]
     },
     "execution_count": 6,
     "metadata": {},
     "output_type": "execute_result"
    }
   ],
   "source": [
    "testport.get_symbols()"
   ]
  },
  {
   "cell_type": "code",
   "execution_count": 7,
   "metadata": {},
   "outputs": [],
   "source": [
    "dji = utility.djia()"
   ]
  },
  {
   "cell_type": "code",
   "execution_count": 8,
   "metadata": {},
   "outputs": [],
   "source": [
    "testport.add_symbols(['KATE', 'TSLA', 'AAPL', 'SNAP'])"
   ]
  },
  {
   "cell_type": "code",
   "execution_count": 9,
   "metadata": {},
   "outputs": [],
   "source": [
    "testport.change_name(\"portfolio1\")"
   ]
  },
  {
   "cell_type": "code",
   "execution_count": 10,
   "metadata": {},
   "outputs": [
    {
     "data": {
      "text/plain": [
       "{'username': 'richa',\n",
       " 'password': 'pwd',\n",
       " 'portfolios': [{'name': 'portfolio1',\n",
       "   'value': 0,\n",
       "   'earnings': 0,\n",
       "   'symbols': ['AAPL', 'SNAP', 'KATE', 'TSLA'],\n",
       "   'strategy': {'name': 'mfi', 'lower': 20, 'upper': 80, 'period': '14'}}],\n",
       " 'earnings': 0}"
      ]
     },
     "execution_count": 10,
     "metadata": {},
     "output_type": "execute_result"
    }
   ],
   "source": [
    "utility.serialize_account(acc)"
   ]
  },
  {
   "cell_type": "code",
   "execution_count": 11,
   "metadata": {},
   "outputs": [
    {
     "data": {
      "text/plain": [
       "0"
      ]
     },
     "execution_count": 11,
     "metadata": {},
     "output_type": "execute_result"
    }
   ],
   "source": [
    "database.add_account(acc)"
   ]
  },
  {
   "cell_type": "code",
   "execution_count": 13,
   "metadata": {},
   "outputs": [
    {
     "data": {
      "text/plain": [
       "{'_id': ObjectId('6000effa70f88a623f542f3b'),\n",
       " 'username': 'richa',\n",
       " 'password': 'pwd',\n",
       " 'portfolios': [{'name': 'portfolio1',\n",
       "   'value': 0,\n",
       "   'earnings': 0,\n",
       "   'symbols': ['AAPL', 'SNAP', 'KATE', 'TSLA'],\n",
       "   'strategy': {'name': 'mfi', 'lower': 20, 'upper': 80, 'period': '14'}}],\n",
       " 'earnings': 0}"
      ]
     },
     "execution_count": 13,
     "metadata": {},
     "output_type": "execute_result"
    }
   ],
   "source": [
    "database.get_account(\"richa\", \"pwd\")"
   ]
  },
  {
   "cell_type": "code",
   "execution_count": null,
   "metadata": {},
   "outputs": [],
   "source": []
  }
 ],
 "metadata": {
  "kernelspec": {
   "display_name": "Python 3",
   "language": "python",
   "name": "python3"
  },
  "language_info": {
   "codemirror_mode": {
    "name": "ipython",
    "version": 3
   },
   "file_extension": ".py",
   "mimetype": "text/x-python",
   "name": "python",
   "nbconvert_exporter": "python",
   "pygments_lexer": "ipython3",
   "version": "3.8.5"
  }
 },
 "nbformat": 4,
 "nbformat_minor": 4
}
